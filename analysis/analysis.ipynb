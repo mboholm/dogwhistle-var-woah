{
 "cells": [
  {
   "cell_type": "code",
   "execution_count": 1,
   "id": "31a22d32-d4cb-4f92-985e-f64b18e3b96e",
   "metadata": {},
   "outputs": [],
   "source": [
    "# https://towardsdatascience.com/an-end-to-end-project-on-time-series-analysis-and-forecasting-with-python-4835e6bf050b\n",
    "# https://www.kaggle.com/code/prashant111/complete-guide-on-time-series-analysis-in-python"
   ]
  },
  {
   "cell_type": "code",
   "execution_count": 2,
   "id": "c08c3621-d1f9-4954-8e80-a5a03c610b0c",
   "metadata": {},
   "outputs": [],
   "source": [
    "import pandas as pd\n",
    "import numpy as np\n",
    "import json\n",
    "from math import ceil\n",
    "from pathlib import Path\n",
    "import matplotlib.pyplot as plt\n",
    "import seaborn as sns\n",
    "import calendar"
   ]
  },
  {
   "cell_type": "code",
   "execution_count": 3,
   "id": "3d0ba4e9-8e94-4771-928f-f9cf4a36ece6",
   "metadata": {},
   "outputs": [],
   "source": [
    "from scipy.stats import zscore\n",
    "import pingouin as pq\n",
    "import statsmodels.api as sm\n",
    "import statsmodels.formula.api as smf\n",
    "from statsmodels.tsa.holtwinters import Holt\n",
    "from statsmodels.stats.stattools import jarque_bera\n",
    "from statsmodels.stats.stattools import durbin_watson\n",
    "from statsmodels.stats.diagnostic import acorr_breusch_godfrey\n",
    "from statsmodels.tsa.stattools import acf, pacf\n",
    "from statsmodels.tsa.stattools import adfuller, kpss\n",
    "from statsmodels.graphics.tsaplots import plot_acf, plot_pacf\n",
    "from statsmodels.tsa.api import VAR\n",
    "from stargazer.stargazer import Stargazer, LineLocation, Label\n",
    "from scipy.stats import pearsonr, boxcox"
   ]
  },
  {
   "cell_type": "code",
   "execution_count": 4,
   "id": "d8746e4c-7c5b-40cb-a917-0ed242df9c6a",
   "metadata": {},
   "outputs": [],
   "source": [
    "import warnings\n",
    "from statsmodels.tools.sm_exceptions import InterpolationWarning\n",
    "warnings.simplefilter('ignore', InterpolationWarning)"
   ]
  },
  {
   "cell_type": "code",
   "execution_count": 5,
   "id": "f99a3472-f0b4-4082-aff3-5b1ccb315034",
   "metadata": {},
   "outputs": [],
   "source": [
    "from statsmodels.tools.sm_exceptions import  ValueWarning \n",
    "warnings.simplefilter('ignore', ValueWarning)\n",
    "# https://pandas.pydata.org/docs/reference/api/pandas.DatetimeIndex.html"
   ]
  },
  {
   "cell_type": "markdown",
   "id": "ff3514d2-9a68-42a4-b439-82cd73687b3a",
   "metadata": {},
   "source": [
    "## Utils"
   ]
  },
  {
   "cell_type": "code",
   "execution_count": 6,
   "id": "b3687e3d-4a83-4f85-9805-938b202671aa",
   "metadata": {},
   "outputs": [],
   "source": [
    "def cos2ang(cosine_similarity):\n",
    "    \n",
    "    angular = np.arccos(cosine_similarity) / np.pi # Noble et al\n",
    "    # angular = (1 / cosine_similarity(v1, v2)) / np.pi # https://www.itl.nist.gov/div898/software/dataplot/refman2/auxillar/cosdist.htm\n",
    "\n",
    "    return 1 - angular"
   ]
  },
  {
   "cell_type": "code",
   "execution_count": 7,
   "id": "77813d9a-5c27-4393-9091-88e83fa6b77a",
   "metadata": {},
   "outputs": [],
   "source": [
    "# cos2ang(0)"
   ]
  },
  {
   "cell_type": "code",
   "execution_count": 8,
   "id": "6a503169-7ec2-4f1c-836e-12984a202196",
   "metadata": {},
   "outputs": [],
   "source": [
    "def get_time_mapper(file_path):\n",
    "    with open(Path(file_path)) as f:\n",
    "        mapper = json.loads(f.read())\n",
    "        mapper = {int(k): v for k,v in mapper.items()}\n",
    "        return mapper"
   ]
  },
  {
   "cell_type": "code",
   "execution_count": 9,
   "id": "58246daa-ef70-4826-9a57-51680b8d45b0",
   "metadata": {},
   "outputs": [],
   "source": [
    "M_mapper = get_time_mapper(\"../utils/M_mapper.json\")\n",
    "Q_mapper = get_time_mapper(\"../utils/Q_mapper.json\")"
   ]
  },
  {
   "cell_type": "code",
   "execution_count": 10,
   "id": "e66df6fe-6f6a-44a1-ac65-670f0fc9674c",
   "metadata": {},
   "outputs": [],
   "source": [
    "# Q_mapper"
   ]
  },
  {
   "cell_type": "code",
   "execution_count": 11,
   "id": "d769482f-ab8f-4166-a5c3-901a9dac67ea",
   "metadata": {},
   "outputs": [],
   "source": [
    "# M_mapper"
   ]
  },
  {
   "cell_type": "code",
   "execution_count": 12,
   "id": "e37230f7-06ec-4b86-94db-ae22dd5934dd",
   "metadata": {},
   "outputs": [],
   "source": [
    "# {v: k for k, v in M_mapper.items()}[\"2018/January\"]"
   ]
  },
  {
   "cell_type": "code",
   "execution_count": 13,
   "id": "609b5778-4e91-40ed-91ac-95fd5fcde668",
   "metadata": {},
   "outputs": [],
   "source": [
    "# {v: k for k, v in Q_mapper.items()}[\"2012/Q1\"]"
   ]
  },
  {
   "cell_type": "code",
   "execution_count": 14,
   "id": "14b10300-34ac-493b-940e-47d4e8321aa2",
   "metadata": {},
   "outputs": [],
   "source": [
    "def select(df, term, community, meas, fill = None, minT = None, maxT = None):\n",
    "    data = df[(df[\"DWE\"]==term)&(df[\"Community\"]==community)][[meas, \"T\"]]\n",
    "    if fill != None:\n",
    "        data[meas] = data[meas].fillna(fill)\n",
    "    if minT != None:\n",
    "        data = data[data[\"T\"] >= minT]\n",
    "    if maxT != None:\n",
    "        data = data[data[\"T\"] <= maxT]\n",
    "\n",
    "    return data"
   ]
  },
  {
   "cell_type": "code",
   "execution_count": 15,
   "id": "f248e2b6-8953-4eb2-af79-ee94a79f77a9",
   "metadata": {},
   "outputs": [],
   "source": [
    "def adjusted(data, i_var, f_var, name, fill=None, first_fill=None): # adjust i_var (e.g. intensity) relative f_var (e.g. frequencey)\n",
    "    \"\"\" \n",
    "    Adjusted Intensity (AI) = residuals of regression i_var ~ f_var, e.g. the intensity not explained by frequency.\n",
    "    Should be done for term, community pairs (not data overall).\n",
    "    \"\"\"\n",
    "    # data = data.copy()\n",
    "    block = [] # communities\n",
    "    for community in pd.unique(data[\"Community\"]):\n",
    "        # d_block = [] # DWEs ...\n",
    "        for term in pd.unique(data[\"DWE\"]):\n",
    "            df = data[(data[\"DWE\"]==term) & (data[\"Community\"]==community)].copy()\n",
    "            # df = df[[i_var, f_var]].dropna()\n",
    "            df = df[[i_var, f_var]].copy()\n",
    "\n",
    "            # return df\n",
    "            if df.shape[0] < 3: \n",
    "                print(term, community, df.shape, list(df.index))\n",
    "                continue            \n",
    "            # df = df.sample(frac=1) # avoid auto-regression\n",
    "\n",
    "            if fill != None:\n",
    "                if fill == \"interpolate\":\n",
    "                    df[i_var] = df[i_var].interpolate()                \n",
    "                elif fill == \"spline\":\n",
    "                    df[i_var] = df[i_var].interpolate(option=\"spline\")                \n",
    "                elif fill == \"min\":\n",
    "                    minimum = df[i_var].min()\n",
    "                    df[i_var] = df[i_var].fillna(minimum)                \n",
    "                elif fill == \"mean\":\n",
    "                    mean = df[i_var].mean()\n",
    "                    df[i_var] = df[i_var].fillna(mean)\n",
    "                elif fill == \"previous\":\n",
    "                    if pd.isna(df.iloc[0][i_var]):\n",
    "                        if first_fill == \"min\":\n",
    "                            first_fill = df[i_var].min()\n",
    "                        if first_fill == \"mean\":\n",
    "                            first_fill = df[i_var].mean()                        \n",
    "                        if first_fill == \"next\":\n",
    "                            first_fill = [v for v in df[i_var] if not pd.isna(v)][0]                            \n",
    "                        df.at[0, i_var] = first_fill # df.iloc[0][i_var] = first_fill\n",
    "                    df[i_var] = df[i_var].ffill()\n",
    "                else:\n",
    "                    df[i_var] = df[i_var].fillna(fill) \n",
    "            else:\n",
    "                df = df.dropna()\n",
    "\n",
    "            model = smf.ols(formula=f\"{i_var} ~ {f_var}\", data=df, missing='drop').fit()\n",
    "            # print(term, community, model.resid)\n",
    "            # adj = pd.Series(model.resid, index=df.index, dtype = np.float64, name=name) # dtype=None\n",
    "            adj = model.resid.rename(name)\n",
    "            block.append(adj)\n",
    "    adj_col = pd.concat(block, axis=0)\n",
    "\n",
    "    return adj_col"
   ]
  },
  {
   "cell_type": "code",
   "execution_count": 16,
   "id": "f1dc8901-3ec6-4e59-9fc5-840c5b1414a1",
   "metadata": {},
   "outputs": [],
   "source": [
    "def q2d(string, time_type):\n",
    "    if time_type == \"quarterly\":\n",
    "        y, q = tuple(string.split(\"/Q\"))\n",
    "        q = int(q) * 3\n",
    "        d = calendar.monthrange(int(y), q)[1]\n",
    "        return np.datetime64(f\"{y}-{q:02d}-{d:02d}\") # Obs! represent quarter as last day of last month\n",
    "    else: # i.e. \"monthly\"\n",
    "        y, m = tuple(string.split(\"/\"))\n",
    "        m = {m: i for i, m in enumerate(calendar.month_name)}[m] \n",
    "        # ['', 'January', 'February', 'March', 'April', 'May', 'June', 'July', 'August', 'September', 'October', 'November', 'December']\n",
    "        d = calendar.monthrange(int(y), m)[1]\n",
    "        return np.datetime64(f\"{y}-{m:02d}-{d:02d}\") # Obs! represent month as last day of last month        "
   ]
  },
  {
   "cell_type": "code",
   "execution_count": 17,
   "id": "03fd7a00-9614-4d7e-b6bf-cb9d83c97849",
   "metadata": {},
   "outputs": [],
   "source": [
    "# calendar.monthrange(2010, 1)[1]"
   ]
  },
  {
   "cell_type": "code",
   "execution_count": 18,
   "id": "ec192eae-24f8-43e5-b4e0-618524cc722d",
   "metadata": {},
   "outputs": [],
   "source": [
    "def add_date(df, mapper, set_as_index=True, time_type=\"quarterly\"):\n",
    "    df = df.copy()\n",
    "    df[\"date\"] = [q2d(mapper[int(idx.split(\"-\")[0])], time_type) for idx in df.index]\n",
    "    if set_as_index:\n",
    "        # df.set_index(\"date\", inplace=True)\n",
    "        df.index = pd.DatetimeIndex(df[\"date\"], freq=\"infer\")\n",
    "    return df"
   ]
  },
  {
   "cell_type": "code",
   "execution_count": 19,
   "id": "791cd7fa-50ac-4612-a67a-57fdd9755d91",
   "metadata": {},
   "outputs": [],
   "source": [
    "# add_date(glob_fb, Q_mapper).index"
   ]
  },
  {
   "cell_type": "markdown",
   "id": "934fab23-1b2a-4913-b506-886109dc9715",
   "metadata": {},
   "source": [
    "### Elections"
   ]
  },
  {
   "cell_type": "code",
   "execution_count": 20,
   "id": "973936cc-a8db-4936-902c-c5d48a02f3e5",
   "metadata": {},
   "outputs": [],
   "source": [
    "election_years = [2002, 2006, 2010, 2014, 2018, 2022]"
   ]
  },
  {
   "cell_type": "code",
   "execution_count": 21,
   "id": "9a72d3a8-1716-4182-9889-6435c3765a62",
   "metadata": {},
   "outputs": [],
   "source": [
    "election_days = [\n",
    "    (2002, 9, 15),\n",
    "    (2006, 9, 17),\n",
    "    (2010, 9, 19),\n",
    "    (2014, 9, 14),\n",
    "    (2018, 9, 9),\n",
    "    (2022, 9, 11)\n",
    "]"
   ]
  },
  {
   "cell_type": "markdown",
   "id": "f1911ef5-2022-424e-bdab-25dfc011d7c5",
   "metadata": {},
   "source": [
    "## Data"
   ]
  },
  {
   "cell_type": "code",
   "execution_count": 22,
   "id": "a43d152b-2b2a-4b9e-8f90-018e5fd045f2",
   "metadata": {},
   "outputs": [],
   "source": [
    "# PATH = \"long_data\"\n",
    "PATH = \"long_data_no_min\"                       # <-- Paper\n",
    "# FILE = Path(f\"{PATH}/long_spec_q_rn.csv\")\n",
    "# FILE = Path(f\"{PATH}/long_all_q_rn.csv\")\n",
    "# FILE = Path(f\"{PATH}/long_spec_m_rn.csv\")\n",
    "# FILE = Path(f\"{PATH}/long_all_m_rn.csv\")\n",
    "FILE = Path(f\"{PATH}/sbert_long_spec_q_rn.csv\") # <-- Paper\n",
    "# FILE = Path(f\"{PATH}/sbert_mixed_long_all_q_rn.csv\")"
   ]
  },
  {
   "cell_type": "code",
   "execution_count": 23,
   "id": "54f77500-72e3-4a93-b28b-4c5bd8cb50b1",
   "metadata": {},
   "outputs": [],
   "source": [
    "sqdf = pd.read_csv(FILE, sep=\"\\t\", index_col=0)"
   ]
  },
  {
   "cell_type": "code",
   "execution_count": 24,
   "id": "341c9ce6-4e4b-427e-a3ec-85f8ea8ed16b",
   "metadata": {},
   "outputs": [],
   "source": [
    "# sqdf "
   ]
  },
  {
   "cell_type": "markdown",
   "id": "4c996f49-a0b1-4a70-b4e2-7e890c3b8b91",
   "metadata": {},
   "source": [
    "#### Add date"
   ]
  },
  {
   "cell_type": "code",
   "execution_count": 25,
   "id": "d8cea00b-9327-4b95-9519-1d3d0e57025d",
   "metadata": {},
   "outputs": [],
   "source": [
    "sqdf = add_date(sqdf, Q_mapper, set_as_index=False)\n",
    "# sqdf = add_date(sqdf, M_mapper, set_as_index=False, time_type=\"monthly\")"
   ]
  },
  {
   "cell_type": "code",
   "execution_count": 26,
   "id": "1ec59042-2968-4d53-b26e-7fa11669b73f",
   "metadata": {},
   "outputs": [],
   "source": [
    "# sqdf[\"date\"]"
   ]
  },
  {
   "cell_type": "markdown",
   "id": "c4305277-4248-4e52-b228-777eaa200367",
   "metadata": {},
   "source": [
    "*Select time before detrending* "
   ]
  },
  {
   "cell_type": "code",
   "execution_count": null,
   "id": "d7361619-1eeb-4ceb-910c-ca278ebde13e",
   "metadata": {},
   "outputs": [],
   "source": [
    "YEAR = 2010\n",
    "MONTH = 1\n",
    "DAY = 1\n",
    "sqdf = sqdf[sqdf[\"date\"] > pd.Timestamp(year=YEAR, month=MONTH, day=DAY)].copy()"
   ]
  },
  {
   "cell_type": "markdown",
   "id": "4bce1537-edf0-4a2d-b86b-ef8a78f0b847",
   "metadata": {
    "jp-MarkdownHeadingCollapsed": true
   },
   "source": [
    "## Adjusting & detrending"
   ]
  },
  {
   "cell_type": "markdown",
   "id": "ea78f3f4-05e6-4fd0-a1e3-e860e83d8a31",
   "metadata": {},
   "source": [
    "### Add adjusted terms"
   ]
  },
  {
   "cell_type": "markdown",
   "id": "2a5f9f33-6149-457e-8197-8db951b661a8",
   "metadata": {},
   "source": [
    "#### Intensity"
   ]
  },
  {
   "cell_type": "code",
   "execution_count": null,
   "id": "856c0d31-ab62-4b61-a781-aab718fa9fa6",
   "metadata": {},
   "outputs": [],
   "source": [
    "adj_int = adjusted(data=sqdf, i_var=\"I_ang\", f_var=\"fpm_lg\", name=\"I_ang_adj\")\n",
    "sqdf = pd.concat([sqdf, adj_int], axis=1)"
   ]
  },
  {
   "cell_type": "markdown",
   "id": "16083c04-8b07-4da3-ba1f-9ff579f025e4",
   "metadata": {},
   "source": [
    "#### Normalized intensity"
   ]
  },
  {
   "cell_type": "code",
   "execution_count": null,
   "id": "de9876f8-7a09-422d-a51b-d087365d2f74",
   "metadata": {},
   "outputs": [],
   "source": [
    "adj_ssc = adjusted(data=sqdf, i_var=\"cnt_ssc\", f_var=\"fpm_lg\", name=\"ssc_adj\")\n",
    "sqdf = pd.concat([sqdf, adj_ssc], axis=1)"
   ]
  },
  {
   "cell_type": "code",
   "execution_count": null,
   "id": "a9f49171-64da-457a-9a6a-e07f58c5ddfc",
   "metadata": {},
   "outputs": [],
   "source": [
    "# sqdf"
   ]
  },
  {
   "cell_type": "code",
   "execution_count": null,
   "id": "a2e46991-7eb1-442a-9a47-2bee5dcedc11",
   "metadata": {},
   "outputs": [],
   "source": [
    "# d = {type(x): x for x in sqdf[\"I_ang_adj\"]}\n",
    "# d"
   ]
  },
  {
   "cell_type": "markdown",
   "id": "c14a695c-5bf3-459e-891b-995a995ed0b5",
   "metadata": {},
   "source": [
    "### Detrending"
   ]
  },
  {
   "cell_type": "code",
   "execution_count": null,
   "id": "3bc7e0c9-c6ae-405b-866e-5a61dc5f3e41",
   "metadata": {},
   "outputs": [],
   "source": [
    "# detrend_int = adjusted(data=sqdf, i_var=\"I_ang\", f_var=\"T\", name=\"I_ang_dtr\")\n",
    "# sqdf = pd.concat([sqdf, detrend_int], axis=1)"
   ]
  },
  {
   "cell_type": "code",
   "execution_count": null,
   "id": "74433827-f59e-4bc5-8925-df83d5174828",
   "metadata": {},
   "outputs": [],
   "source": [
    "# sqdf[\"Community\"].unique()"
   ]
  },
  {
   "cell_type": "code",
   "execution_count": null,
   "id": "b32f2b9a-4d94-4117-aa3f-e7f1bb4590cc",
   "metadata": {},
   "outputs": [],
   "source": [
    "# sqdf[pd.isna(sqdf[\"Community\"])]"
   ]
  },
  {
   "cell_type": "code",
   "execution_count": null,
   "id": "5d601bbb-c5a7-4a63-b58a-c40d3f1cf636",
   "metadata": {},
   "outputs": [],
   "source": [
    "# ### WITH FILL ###\n",
    "FILL = [\n",
    "    # None,\n",
    "    # 0.5,\n",
    "    # \"min\",\n",
    "    \"mean\",\n",
    "    # \"previous\"\n",
    "][0]\n",
    "FIRST_FILL = \"next\"\n",
    "detrend_int = adjusted(data=sqdf, i_var=\"I_ang\", f_var=\"T\", name=\"I_ang_dtr\", fill=FILL, first_fill=FIRST_FILL)\n",
    "sqdf = pd.concat([sqdf, detrend_int], axis=1)\n",
    "# sqdf[\"I_ang_dtr\"].interpolate(inplace=True)"
   ]
  },
  {
   "cell_type": "code",
   "execution_count": null,
   "id": "5d69712c-51da-4456-becc-6f8af8c5171d",
   "metadata": {},
   "outputs": [],
   "source": [
    "# detrend_ssc = adjusted(data=sqdf, i_var=\"cnt_ssc\", f_var=\"T\", name=\"ssc_dtr\")\n",
    "detrend_ssc = adjusted(data=sqdf, i_var=\"cnt_ssc\", f_var=\"T\", name=\"ssc_dtr\", fill=FILL, first_fill=FIRST_FILL)\n",
    "# detrend_ssc\n",
    "sqdf = pd.concat([sqdf, detrend_ssc], axis=1)\n",
    "# sqdf[\"ssc_dtr\"].interpolate(inplace=True)"
   ]
  },
  {
   "cell_type": "code",
   "execution_count": null,
   "id": "caeca615-1f7d-4f70-beff-efd753ed6073",
   "metadata": {},
   "outputs": [],
   "source": [
    "detrend_fpm = adjusted(data=sqdf, i_var=\"fpm_0\", f_var=\"T\", name=\"fpm_dtr\")\n",
    "sqdf = pd.concat([sqdf, detrend_fpm], axis=1)\n",
    "sqdf[\"fpm_dtr\"].interpolate(inplace=True)"
   ]
  },
  {
   "cell_type": "markdown",
   "id": "c8c2cfb2-9124-4841-9272-0f2faa70c5bc",
   "metadata": {},
   "source": [
    "#### Detrending adjusted"
   ]
  },
  {
   "cell_type": "code",
   "execution_count": null,
   "id": "d205896d-53e4-4743-809e-bbd14c8685cc",
   "metadata": {},
   "outputs": [],
   "source": [
    "detrend_int_adj = adjusted(data=sqdf, i_var=\"I_ang_adj\", f_var=\"T\", name=\"I_ang_adj_dtr\")\n",
    "sqdf = pd.concat([sqdf, detrend_int_adj], axis=1)"
   ]
  },
  {
   "cell_type": "code",
   "execution_count": null,
   "id": "bfc5aa42-5844-437f-a3b9-484aa3708164",
   "metadata": {},
   "outputs": [],
   "source": [
    "detrend_ssc_adj = adjusted(data=sqdf, i_var=\"ssc_adj\", f_var=\"T\", name=\"ssc_adj_dtr\")\n",
    "sqdf = pd.concat([sqdf, detrend_ssc_adj], axis=1)"
   ]
  },
  {
   "cell_type": "markdown",
   "id": "ab15d951-597b-4a5a-b711-b0cdf249882f",
   "metadata": {},
   "source": [
    "### `I_ang_0`"
   ]
  },
  {
   "cell_type": "code",
   "execution_count": null,
   "id": "f55a7eb3-fec3-42c4-bbf6-d6fa65efd748",
   "metadata": {},
   "outputs": [],
   "source": [
    "sqdf[\"I_ang_0\"] = sqdf[\"I_ang\"].fillna(0.5)"
   ]
  },
  {
   "cell_type": "code",
   "execution_count": null,
   "id": "609eeea6-17c3-4c61-89bc-1d654e487cc9",
   "metadata": {},
   "outputs": [],
   "source": [
    "def filler(data, variable, fill, first_fill=None):\n",
    "    block = [] # communities\n",
    "    for community in pd.unique(data[\"Community\"]):\n",
    "        # d_block = [] # DWEs ...\n",
    "        for term in pd.unique(data[\"DWE\"]):\n",
    "            df = data[(data[\"DWE\"]==term) & (data[\"Community\"]==community)].copy()\n",
    "            # df = df[[i_var, f_var]].dropna()\n",
    "            s = df[variable].copy()\n",
    "\n",
    "            # return df\n",
    "            # if df.shape[0] < 3: \n",
    "            #     print(term, community, df.shape, list(df.index))\n",
    "            #     continue            \n",
    "            # df = df.sample(frac=1) # avoid auto-regression\n",
    "\n",
    "            if fill != None:\n",
    "                if fill == \"mean\":\n",
    "                    mean = df[i_var].mean()\n",
    "                    s = s.fillna(mean)\n",
    "                elif fill == \"previous\":\n",
    "                    if pd.isna(s.iloc[0]):\n",
    "                        if first_fill == \"min\":\n",
    "                            first_fill = s.min()\n",
    "                        if first_fill == \"mean\":\n",
    "                            first_fill = s.mean()                        \n",
    "                        if first_fill == \"next\":\n",
    "                            first_fill = [v for v in s if not pd.isna(v)][0]                            \n",
    "                        s.iloc[0] = first_fill # df.iloc[0][i_var] = first_fill\n",
    "                    s = s.ffill()\n",
    "                else:\n",
    "                    s = s.fillna(fill) \n",
    "\n",
    "            block.append(s)\n",
    "    adj_col = pd.concat(block, axis=0)\n",
    "    return adj_col"
   ]
  },
  {
   "cell_type": "code",
   "execution_count": null,
   "id": "b322909c-c405-440e-be4c-290c880dff60",
   "metadata": {},
   "outputs": [],
   "source": [
    "sqdf[\"I_ang_XXX\"] = filler(data=sqdf, variable=\"I_ang\", fill=0.5)#, first_fill=\"next\")"
   ]
  },
  {
   "cell_type": "code",
   "execution_count": null,
   "id": "2616649b-6917-41f6-9624-c44b7bde39a0",
   "metadata": {},
   "outputs": [],
   "source": [
    "# sqdf"
   ]
  },
  {
   "cell_type": "code",
   "execution_count": null,
   "id": "1dca9808-48fa-49f7-998f-70f03b9d6436",
   "metadata": {},
   "outputs": [],
   "source": [
    "# r_expr = f'I_ang ~ fpm_0'\n",
    "# results = smf.ols(formula=r_expr, data=sqdf, missing='drop').fit() \n",
    "# print(results.summary())"
   ]
  },
  {
   "cell_type": "markdown",
   "id": "bca4d3cd-3d47-4649-91d2-3fb34085eb5e",
   "metadata": {
    "jp-MarkdownHeadingCollapsed": true
   },
   "source": [
    "## Visual"
   ]
  },
  {
   "cell_type": "code",
   "execution_count": null,
   "id": "002b5a15-7e8b-401f-9f87-032b51b9e05b",
   "metadata": {},
   "outputs": [],
   "source": [
    "def krename(string):\n",
    "    new = string.replace(\"kultur\", \"\") + \"_kultur\" if string.startswith(\"kultur\") else string\n",
    "    return new"
   ]
  },
  {
   "cell_type": "code",
   "execution_count": null,
   "id": "7318f36c-f1c7-42e1-ab3f-71767ba358d2",
   "metadata": {},
   "outputs": [],
   "source": [
    "def visual(\n",
    "    dataframe, \n",
    "    terms, \n",
    "    community, \n",
    "    meas, \n",
    "    step, \n",
    "    vline, \n",
    "    start = None,\n",
    "    norm = False\n",
    "):\n",
    "    # fig = plt.figure(figsize=(12, 3))\n",
    "    fig, axs = plt.subplots(len(terms), 1, figsize=(8,len(terms)*1.7))#, sharey=True, sharex=False)\n",
    "\n",
    "    DATA = dataframe[(dataframe[\"DWE\"].isin(terms)) & (dataframe[\"Community_name\"]==community)]\n",
    "\n",
    "    if start != None:\n",
    "        YEAR, MONTH, DAY = start\n",
    "        DATA = DATA[DATA[\"date\"] >= pd.Timestamp(year=YEAR, month=MONTH, day=DAY)]\n",
    "\n",
    "    series = [DATA[DATA[\"DWE\"]==dwe].set_index(\"date\")[meas] for dwe in terms]\n",
    "\n",
    "    # return series\n",
    "\n",
    "    series, terms = zip(*sorted([(ts, krename(term[3:])) for ts, term in zip(series, terms)], key= lambda x: x[-1]))\n",
    "    \n",
    "    for ts, term, ax in zip(series, terms, axs.flatten()):\n",
    "        Y = ts\n",
    "        X = ts.index\n",
    "        if norm:\n",
    "            Y = zscore(Y, nan_policy=\"omit\")\n",
    "        \n",
    "        ax.plot(X, Y)\n",
    "\n",
    "        title = f\"{term}, {meas}\"\n",
    "        \n",
    "        ax.set_title(title, size=11)\n",
    "\n",
    "        for YEAR, MONTH, DAY in election_days:\n",
    "            if start != None:\n",
    "                if YEAR < start[0]:\n",
    "                    continue\n",
    "            ax.axvline(pd.Timestamp(year=YEAR, month=MONTH, day=DAY), linewidth=3, color=\"red\")\n",
    "        \n",
    "        # for ey in election_years:\n",
    "        #     ax.axvline(pd.Timestamp(year=ey, month=9, day=1), linewidth=3, color=\"red\")\n",
    "    fig.tight_layout()\n",
    "    plt.show()"
   ]
  },
  {
   "cell_type": "code",
   "execution_count": null,
   "id": "0c515493-b45e-469f-ad98-6f60fbb8938f",
   "metadata": {},
   "outputs": [],
   "source": [
    "visual(\n",
    "    dataframe = sqdf, \n",
    "    terms     = pd.unique(sqdf[\"DWE\"]), \n",
    "    community = \"Flashback\", \n",
    "    meas      = \"I_ang_dtr\", \n",
    "    step      = 1, \n",
    "    vline     = election_years, \n",
    "    start     = (2010, 1, 1),\n",
    "    norm      = False,\n",
    ")"
   ]
  },
  {
   "cell_type": "code",
   "execution_count": null,
   "id": "f9eeed75-7059-4cb8-8983-ed81331b43ad",
   "metadata": {},
   "outputs": [],
   "source": [
    "visual(\n",
    "    dataframe = sqdf, \n",
    "    terms     = pd.unique(sqdf[\"DWE\"]), \n",
    "    community = \"Familjeliv\", \n",
    "    meas      = \"I_ang_dtr\", \n",
    "    step      = 1, \n",
    "    vline     = election_years, \n",
    "    start     = (2008, 1, 1),\n",
    "    norm      = False,\n",
    ")"
   ]
  },
  {
   "cell_type": "code",
   "execution_count": null,
   "id": "ce161245-6d66-4276-ad22-5a7297e5445a",
   "metadata": {},
   "outputs": [],
   "source": [
    "def vis_trend(\n",
    "    dataframe, \n",
    "    terms, \n",
    "    community, \n",
    "    meas, \n",
    "    step, \n",
    "    # vline, \n",
    "    ncols = 2,\n",
    "    start = None,\n",
    "    norm = False\n",
    "):\n",
    "    \n",
    "    DATA = dataframe[(dataframe[\"DWE\"].isin(terms)) & (dataframe[\"Community_name\"]==community)]\n",
    "    if start != None:\n",
    "        YEAR, MONTH, DAY = start\n",
    "        DATA = DATA[DATA[\"date\"] >= pd.Timestamp(year=YEAR, month=MONTH, day=DAY)]\n",
    "    series = [DATA[DATA[\"DWE\"]==dwe].set_index(\"date\")[meas] for dwe in terms]\n",
    "    series, terms = zip(*sorted([(ts, krename(term[3:])) for ts, term in zip(series, terms)], key= lambda x: x[-1]))\n",
    "\n",
    "    fig, axs = plt.subplots(ceil(len(terms)/ncols), ncols, figsize=(len(terms), len(terms)))#, sharey=True, sharex=False)\n",
    "    for ts, term, ax in zip(series, terms, axs.flatten()):\n",
    "        Y = ts\n",
    "        X = np.arange(len(Y))\n",
    "        if len(Y.dropna()) < 5:\n",
    "            continue\n",
    "        if norm:\n",
    "            Y = zscore(Y, nan_policy=\"omit\")\n",
    "\n",
    "        sns.regplot(x=X, y=Y, ax=ax)\n",
    "        payload = pd.DataFrame(zip(X,Y), columns=[\"X\", \"Y\"]).dropna()\n",
    "        r, p = pearsonr(payload[\"X\"],payload[\"Y\"])\n",
    "        title = f\"{term}, {meas} \\n(r={r:.2f}, p={p:.2f}, N={payload.shape[0]})\"\n",
    "        ax.set_title(title, size=9)\n",
    "    fig.tight_layout()\n",
    "    plt.show()"
   ]
  },
  {
   "cell_type": "code",
   "execution_count": null,
   "id": "8a826df5-b262-4aa3-bb39-73136c690c8b",
   "metadata": {},
   "outputs": [],
   "source": [
    "vis_trend(\n",
    "    dataframe = sqdf, \n",
    "    terms     = pd.unique(sqdf[\"DWE\"]), \n",
    "    community = \"Flashback\", \n",
    "    meas      = \"I_ang\", \n",
    "    step      = 1, \n",
    "    vline     = election_years, \n",
    "    start     = (2010, 1, 1),\n",
    "    norm      = False,\n",
    "    ncols     = 3\n",
    ")"
   ]
  },
  {
   "cell_type": "code",
   "execution_count": null,
   "id": "c15bd6fe-5ec4-4753-8d1c-c1a6b9c8c452",
   "metadata": {},
   "outputs": [],
   "source": [
    "vis_trend(\n",
    "    dataframe = sqdf, \n",
    "    terms     = pd.unique(sqdf[\"DWE\"]), \n",
    "    community = \"Familjeliv\", \n",
    "    meas      = \"I_ang\", \n",
    "    step      = 1, \n",
    "    # vline     = election_years, \n",
    "    start     = (2010, 1, 1),\n",
    "    norm      = False,\n",
    "    ncols     = 3\n",
    ")"
   ]
  },
  {
   "cell_type": "code",
   "execution_count": null,
   "id": "0433d5f5-0e5b-4b8e-aeb9-422a48ed3204",
   "metadata": {},
   "outputs": [],
   "source": [
    "vis_trend(\n",
    "    dataframe = sqdf, \n",
    "    terms     = pd.unique(sqdf[\"DWE\"]), \n",
    "    community = \"Flashback\", \n",
    "    meas      = \"I_ang_XXX\", \n",
    "    step      = 1, \n",
    "    # vline     = election_years, \n",
    "    start     = (2010, 1, 1),\n",
    "    norm      = False,\n",
    "    ncols     = 3\n",
    ")"
   ]
  },
  {
   "cell_type": "code",
   "execution_count": null,
   "id": "eec02f4e-d676-410d-9a25-962d39549db6",
   "metadata": {},
   "outputs": [],
   "source": [
    "vis_trend(\n",
    "    dataframe = sqdf, \n",
    "    terms     = pd.unique(sqdf[\"DWE\"]), \n",
    "    community = \"Familjeliv\", \n",
    "    meas      = \"I_ang_0\", \n",
    "    step      = 1, \n",
    "    vline     = election_years, \n",
    "    start     = (2010, 1, 1),\n",
    "    norm      = False,\n",
    "    ncols     = 3\n",
    ")"
   ]
  },
  {
   "cell_type": "code",
   "execution_count": null,
   "id": "158a2568-d542-4c81-8490-6e4fa434e203",
   "metadata": {},
   "outputs": [],
   "source": []
  },
  {
   "cell_type": "markdown",
   "id": "26436331-fe71-4749-8ab5-430298249c92",
   "metadata": {
    "jp-MarkdownHeadingCollapsed": true
   },
   "source": [
    "## Naive lagged correlations"
   ]
  },
  {
   "cell_type": "code",
   "execution_count": null,
   "id": "1f0b9485-609d-4947-9ce7-e2395e55c01a",
   "metadata": {},
   "outputs": [],
   "source": [
    "def corr4u(df):\n",
    "    df = df.dropna()\n",
    "    if len(df) < 2:\n",
    "        return None\n",
    "    x, y = tuple(df.columns)\n",
    "    x, y = df[x], df[y]\n",
    "    return pearsonr(x,y).correlation"
   ]
  },
  {
   "cell_type": "code",
   "execution_count": null,
   "id": "5d39f16b-34ee-4428-b114-0a852e5fe231",
   "metadata": {},
   "outputs": [],
   "source": [
    "def m_corr(df, meas, trg=\"Familjeliv\", nlags=4):\n",
    "    results = []\n",
    "    for dwe in pd.unique(sqdf[\"DWE\"]):\n",
    "        # print(dwe)\n",
    "        ref = [c for c in pd.unique(df[\"Community_name\"]) if c != trg][0]\n",
    "        A = df[(df[\"DWE\"]==dwe) & (df[\"Community_name\"]==trg)][meas].values\n",
    "        B = df[(df[\"DWE\"]==dwe) & (df[\"Community_name\"]==ref)][meas].values\n",
    "        this = pd.DataFrame(zip(A, B), columns=[\"Trg\", \"Ref-0\"])\n",
    "        for i in range(1, nlags+1):\n",
    "            this[f\"Ref-{i}\"] = this[\"Ref-0\"].shift(i)\n",
    "        # return this\n",
    "        d = {\"Term\": dwe}\n",
    "        for lag in [c for c in sorted(this.columns) if c != \"Trg\"]:\n",
    "            r = corr4u(this[[\"Trg\", lag]])\n",
    "            d[lag] = r\n",
    "        results.append(d)\n",
    "    results = pd.DataFrame(results) \n",
    "    results.set_index(\"Term\", inplace=True)\n",
    "    return results"
   ]
  },
  {
   "cell_type": "code",
   "execution_count": null,
   "id": "3758bfe5-fed6-4e03-93f6-c971a0977e5f",
   "metadata": {},
   "outputs": [],
   "source": [
    "TRG = \"Familjeliv\"\n",
    "MEAS = \"I_ang_adj_dtr\"\n",
    "# TRG = \"Flashback\"\n",
    "payload = m_corr(sqdf, meas=MEAS, trg=TRG, nlags=8)\n",
    "# payload\n",
    "sns.heatmap(payload, annot=True)\n",
    "plt.title(f'Lagged Correlations (ref={TRG})')"
   ]
  },
  {
   "cell_type": "markdown",
   "id": "5115c1b7-03fe-4e07-9f53-1134bf548f0d",
   "metadata": {},
   "source": [
    "## TS: Utils"
   ]
  },
  {
   "cell_type": "code",
   "execution_count": 27,
   "id": "7b67fff8-d7a0-40c5-8546-5e70330bb416",
   "metadata": {},
   "outputs": [],
   "source": [
    "def find_lag(payload):\n",
    "    model = VAR(payload.dropna())\n",
    "    # Determining the optimal lag order\n",
    "    lag_order_results = model.select_order(maxlags=4)\n",
    "    tab = pd.DataFrame(lag_order_results.ics).drop(0)\n",
    "    for c in tab.columns:\n",
    "        tab[f\"{c}_bool\"] = tab[c].apply(lambda x: True if x == tab[c].min() else False)\n",
    "    tab[\"pool\"] = tab[[c for c in tab.columns if c.endswith(\"_bool\")]].sum(axis=1)\n",
    "    pool_max    = tab.pool.max()\n",
    "    tab         = tab[tab.pool == pool_max]\n",
    "\n",
    "    if tab.index.shape[0] > 1:\n",
    "        for ics in [\"aic_bool\", \"fpe_bool\", \"bic_bool\", \"hqic_bool\"]: # preferred measure order\n",
    "            for i in tab.index:\n",
    "                if tab.at[i, ics]:\n",
    "                    return i\n",
    "    else:\n",
    "        return tab.index[0]\n"
   ]
  },
  {
   "cell_type": "code",
   "execution_count": 28,
   "id": "d7e68f7e-fd47-46ba-9707-d7b5d74e7c49",
   "metadata": {},
   "outputs": [],
   "source": [
    "def differencing(data, variable):\n",
    "    # data = data.copy()\n",
    "    diff = data[variable] - data[variable].shift(1)\n",
    "    return diff   "
   ]
  },
  {
   "cell_type": "code",
   "execution_count": 29,
   "id": "d917c7e6-2a03-4a10-801e-1980f61d11a2",
   "metadata": {},
   "outputs": [],
   "source": [
    "def df_for_var(df, term, variable, fillNAN=None, first_fill=None):\n",
    "    df = df.copy()\n",
    "    df.index = pd.DatetimeIndex(df[\"date\"], freq=\"infer\")\n",
    "    \n",
    "    fb = df[(df[\"Community_name\"] == \"Flashback\")  & (df[\"DWE\"] == term)][variable].rename(\"fb\")\n",
    "    fl = df[(df[\"Community_name\"] == \"Familjeliv\") & (df[\"DWE\"] == term)][variable].rename(\"fl\")\n",
    "    \n",
    "    if fillNAN != None:\n",
    "        if fillNAN == \"interpolate\":\n",
    "            fb.interpolate(inplace=True)\n",
    "            fl.interpolate(inplace=True)\n",
    "        elif fillNAN == \"spline\":\n",
    "            fb.interpolate(option=\"spline\", inplace=True)\n",
    "            fl.interpolate(option=\"spline\", inplace=True)            \n",
    "        elif fillNAN == \"min\":\n",
    "            min_fb = fb.min()\n",
    "            min_fl = fl.min()\n",
    "            fb.fillna(min_fb, inplace=True)\n",
    "            fl.fillna(min_fl, inplace=True)            \n",
    "        elif fillNAN == \"mean\":\n",
    "            M_fb = fb.mean()\n",
    "            M_fl = fl.mean()\n",
    "            fb.fillna(M_fb, inplace=True)\n",
    "            fl.fillna(M_fl, inplace=True)\n",
    "        elif fillNAN == \"previous\":\n",
    "            for s in [fb, fl]:\n",
    "                if pd.isna(s.iloc[0]):\n",
    "                    if first_fill == \"min\":\n",
    "                        first_fill = s.min()\n",
    "                    if first_fill == \"next\":\n",
    "                        first_fill = [v for v in s if not pd.isna(v)][0]\n",
    "                    s.iloc[0] = first_fill # df.iloc[0][cmt] = first_fill\n",
    "                s.ffill(inplace=True) \n",
    "        else:\n",
    "            fb.fillna(fillNAN, inplace=True)\n",
    "            fl.fillna(fillNAN, inplace=True)\n",
    "    return pd.concat([fb,fl], axis=1)"
   ]
  },
  {
   "cell_type": "code",
   "execution_count": 30,
   "id": "1898fb3b-7b32-447e-8eb9-72b21052b3a9",
   "metadata": {},
   "outputs": [],
   "source": [
    "# cmt = \"fb\"\n",
    "# term = \"N1_återvandring\"\n",
    "# orig = df_for_var(sqdf[sqdf[\"date\"] > pd.Timestamp(year=YEAR, month=MONTH, day=MONTH)], term, \"I_ang\", \"previous\", \"next\")\n",
    "# # orig = df_for_var(sqdf[sqdf[\"date\"] > pd.Timestamp(year=YEAR, month=MONTH, day=MONTH)], TERM, \"cnt_ssc\", 0.5)\n",
    "# plt.plot(zscore(orig[cmt], nan_policy=\"omit\"), label=\"Orig\", linestyle='dashed')\n",
    "# plt.scatter(x=orig.index, y=zscore(orig[cmt], nan_policy=\"omit\"), s=10)"
   ]
  },
  {
   "cell_type": "markdown",
   "id": "54d1124f-f041-448c-9cd8-84de147c3575",
   "metadata": {},
   "source": [
    "## TS: Stationarity"
   ]
  },
  {
   "cell_type": "markdown",
   "id": "c361a026-94c5-4da5-ba10-151e1eede7a0",
   "metadata": {},
   "source": [
    "### Tests"
   ]
  },
  {
   "cell_type": "code",
   "execution_count": 31,
   "id": "1c1eb75f-dcd4-4f47-880f-c17a8fe5d8d4",
   "metadata": {},
   "outputs": [],
   "source": [
    "def adf_test(timeseries, verbose=False, full_output=False):\n",
    "    dftest = adfuller(timeseries, autolag=\"AIC\")\n",
    "    if dftest[1] > 0.05:\n",
    "        if verbose:\n",
    "            print(f\"\\tNon-stationary (p={dftest[1]:.3f}) acc. to ADF.\")\n",
    "        return False\n",
    "    else:\n",
    "        if verbose:\n",
    "            print(f\"\\tStationary (p={dftest[1]:.3f}) acc. to ADF.\")\n",
    "        return True\n",
    "    if full_output:\n",
    "        print(\"Results of Dickey-Fuller Test:\")\n",
    "        dfoutput = pd.Series(\n",
    "            dftest[0:4],\n",
    "            index=[\n",
    "                \"Test Statistic\",\n",
    "                \"p-value\",\n",
    "                \"#Lags Used\",\n",
    "                \"Number of Observations Used\",\n",
    "            ],\n",
    "        )\n",
    "        for key, value in dftest[4].items():\n",
    "            dfoutput[\"Critical Value (%s)\" % key] = value\n",
    "        print(dfoutput)"
   ]
  },
  {
   "cell_type": "code",
   "execution_count": 32,
   "id": "a468ac8e-3581-4262-a5e7-67c4cc3b73a2",
   "metadata": {},
   "outputs": [],
   "source": [
    "def kpss_test(timeseries, verbose=False, full_output=False):\n",
    "    kpsstest = kpss(timeseries, regression=\"c\", nlags=\"auto\")\n",
    "    if kpsstest[1] <= 0.05:\n",
    "        if verbose:\n",
    "            print(f\"\\tNon-stationary (p={kpsstest[1]:.3f}) acc. to KPSS.\")\n",
    "        return False\n",
    "    else:\n",
    "        if verbose:\n",
    "            print(f\"\\tStationary (p={kpsstest[1]:.3f}) acc. to KPSS.\")\n",
    "        return True\n",
    "    if full_output:\n",
    "        print(\"Results of KPSS Test:\")\n",
    "        kpss_output = pd.Series(\n",
    "            kpsstest[0:3], index=[\"Test Statistic\", \"p-value\", \"Lags Used\"]\n",
    "        )\n",
    "        for key, value in kpsstest[3].items():\n",
    "            kpss_output[\"Critical Value (%s)\" % key] = value\n",
    "        print(kpss_output)"
   ]
  },
  {
   "cell_type": "code",
   "execution_count": 33,
   "id": "a87c2e7a-0e71-418e-9d7e-b40ab805c7da",
   "metadata": {},
   "outputs": [],
   "source": [
    "# def variance_ratio(ts, lag = 2):\n",
    "#     \"\"\"\n",
    "#     Returns the variance ratio test result\n",
    "#     \"\"\"\n",
    "#     # make sure we are working with an array, convert if necessary\n",
    "#     ts = np.asarray(ts)\n",
    "    \n",
    "#     # Apply the formula to calculate the test\n",
    "#     n = len(ts)\n",
    "#     mu  = sum(ts[1:n]-ts[:n-1])/n;\n",
    "#     m=(n-lag+1)*(1-lag/n);\n",
    "#     b=sum(np.square(ts[1:n]-ts[:n-1]-mu))/(n-1)\n",
    "#     t=sum(np.square(ts[lag:n]-ts[:n-lag]-lag*mu))/m\n",
    "#     return t/(lag*b)"
   ]
  },
  {
   "cell_type": "markdown",
   "id": "f0082d2d-d6ef-443c-bd14-dcd67305a6db",
   "metadata": {
    "jp-MarkdownHeadingCollapsed": true
   },
   "source": [
    "### Utils"
   ]
  },
  {
   "cell_type": "code",
   "execution_count": null,
   "id": "ff71712c-882e-465a-b170-df06581073fb",
   "metadata": {},
   "outputs": [],
   "source": [
    "def add_const(arr):\n",
    "    k = min(arr)\n",
    "    k = abs(k)\n",
    "    k += 0.1\n",
    "    return k"
   ]
  },
  {
   "cell_type": "code",
   "execution_count": null,
   "id": "6e0d5095-213e-4d96-b29e-6540f668df49",
   "metadata": {},
   "outputs": [],
   "source": [
    "def holt(ts, sl=0.1):\n",
    "    model = Holt(ts).fit(sl)\n",
    "    trend = model.fittedvalues\n",
    "    return ts - trend"
   ]
  },
  {
   "cell_type": "code",
   "execution_count": null,
   "id": "bef5ef78-5a58-48bc-bceb-2b53690587f9",
   "metadata": {},
   "outputs": [],
   "source": [
    "def collecter(df, term, community, I_ang_fill = 0.5, I_ang_first_fill = None):\n",
    "\n",
    "    results = []\n",
    "\n",
    "    payload = df_for_var(df, term, \"I_ang\", I_ang_fill, I_ang_first_fill) # <-- Obs!\n",
    "    results.append(payload[community].rename(f\"I_ang\"))\n",
    "    \n",
    "    # payload = df_for_var(df, term, \"I_ang_dtr\", None)\n",
    "    # results.append(payload[community].rename(f\"I_ang_dtr\"))\n",
    "\n",
    "    payload = df_for_var(df, term, \"cnt_ssc\", 0.5) \n",
    "    results.append(payload[community].rename(f\"cnt_ssc\"))  \n",
    "\n",
    "    # payload = df_for_var(df, term, \"ssc_dtr\", None) \n",
    "    # results.append(payload[community].rename(f\"ssc_dtr\")) \n",
    "    \n",
    "    # payload = df_for_var(df, term, \"I_ang_adj_dtr\", 0)\n",
    "    # results.append(payload[community].rename(f\"I_ang_adj_dtr\"))\n",
    "\n",
    "    results = pd.concat(results, axis=1)\n",
    "\n",
    "    # for col in results.columns:\n",
    "    #     results[f\"{col}_bc\"] = boxcox( results[col] + add_const(results[col]) )[0]\n",
    "\n",
    "        \n",
    "    # for col in results.columns:\n",
    "    #     if col.endswith(\"_dtr\"):\n",
    "    #         continue\n",
    "    #     else:\n",
    "    #         results[f\"{col}_holt\"] = holt(results[col])\n",
    "\n",
    "    for col in results.columns:\n",
    "        results[f\"{col}_diff\"] = results[col] - results[col].shift(1)\n",
    "\n",
    "    return results"
   ]
  },
  {
   "cell_type": "code",
   "execution_count": null,
   "id": "dcaaabd8-3360-424d-8ffc-d247dc3165af",
   "metadata": {},
   "outputs": [],
   "source": [
    "def stationary_overview(df, year, month, day, terms, I_ang_fill, I_ang_first_fill):\n",
    "\n",
    "    df = df[df[\"date\"] > pd.Timestamp(year=year, month=month, day=day)].copy()\n",
    "\n",
    "    results = []\n",
    "\n",
    "    for term in terms:\n",
    "        for community in [\"fb\", \"fl\"]:\n",
    "            payload = collecter(df, term, community, I_ang_fill, I_ang_first_fill)\n",
    "            d = {\"Label\": f\"{term}_{community}\"}\n",
    "            for col in payload.columns:\n",
    "                for label, test in [(\"_adf\", adf_test), (\"_kpss\", kpss_test)]:#, (\"_vr\", variance_ratio)]:\n",
    "                    d.update({f\"{col}{label.upper()}\": test(payload[col].dropna())})\n",
    "            results.append(d)\n",
    "\n",
    "    print(f\"N={payload.shape[0]}\")\n",
    "    return pd.DataFrame(results)\n",
    "    "
   ]
  },
  {
   "cell_type": "markdown",
   "id": "b46a50c8-808b-491b-acff-d1452db4fb09",
   "metadata": {
    "jp-MarkdownHeadingCollapsed": true
   },
   "source": [
    "### Run"
   ]
  },
  {
   "cell_type": "code",
   "execution_count": null,
   "id": "a8f69583-62f4-4914-8994-37b085746a77",
   "metadata": {},
   "outputs": [],
   "source": [
    "DWEs = [\n",
    "    \"N1_globalist\",\n",
    "    \"N1_återvandring\",\n",
    "    # \"V1_återvandra\",\n",
    "    \"V1_berika\",\n",
    "    # \"N1_kulturberikare\"\n",
    "]"
   ]
  },
  {
   "cell_type": "code",
   "execution_count": null,
   "id": "9d3568e7-ecf5-4030-9c08-e5e2f66ea61c",
   "metadata": {},
   "outputs": [],
   "source": [
    "YEAR = 2010\n",
    "MONTH = 1\n",
    "DAY = 1\n",
    "# FILL = 0.5\n",
    "# FILL = \"previous\"\n",
    "# FILL = \"min\"\n",
    "FILL = \"mean\"\n",
    "FIRST_FILL = \"next\"\n",
    "res = stationary_overview(df=sqdf, year=YEAR, month=MONTH, day=DAY, terms=DWEs, I_ang_fill=FILL, I_ang_first_fill=FIRST_FILL)\n",
    "res.set_index(\"Label\", inplace=True)\n",
    "plt.figure(figsize=(12,3))\n",
    "sns.heatmap(res, annot=True, linewidths=1, linecolor='black', cbar=False)\n",
    "plt.title('Stationary?')\n",
    "plt.show()"
   ]
  },
  {
   "cell_type": "code",
   "execution_count": null,
   "id": "565b2b89-99a9-4d23-a817-45a4f42e2017",
   "metadata": {},
   "outputs": [],
   "source": [
    "MEAS, FILL, FIRST_FILL = \"I_ang\", \"previous\", \"next\"\n",
    "TERM = \"N1_återvandring\"\n",
    "payload = df_for_var(sqdf, TERM, MEAS, FILL, FIRST_FILL) # <-- Obs!\n",
    "fig, axes = plt.subplots(1,2,figsize=(16,3), dpi= 100)\n",
    "plot_acf(payload[\"fb\"].dropna().to_list(), lags=30, ax=axes[0]) \n",
    "plot_acf(payload[\"fl\"].dropna().to_list(), lags=30, ax=axes[1])\n",
    "plt.show()"
   ]
  },
  {
   "cell_type": "code",
   "execution_count": null,
   "id": "d726435a-042e-4ef3-9079-8230a70ba699",
   "metadata": {},
   "outputs": [],
   "source": [
    "MEAS, FILL, FIRST_FILL = \"I_ang\", \"previous\", \"next\"\n",
    "YEAR = 2010\n",
    "MONTH = 1\n",
    "DAY = 1\n",
    "\n",
    "DIFF   = False\n",
    "BOXCOX = False\n",
    "HOLT   = False\n",
    "\n",
    "for TERM in DWEs:\n",
    "    print(TERM.upper())\n",
    "    payload = df_for_var(sqdf[sqdf[\"date\"] > pd.Timestamp(year=YEAR, month=MONTH, day=DAY)], TERM, MEASURE, FILL, FIRST_FILL)\n",
    "\n",
    "    fb = payload[\"fb\"].dropna()\n",
    "    fl = payload[\"fl\"].dropna()\n",
    "    \n",
    "    if BOXCOX:\n",
    "        # plt.plot(fb + const(fb), label=\"fb_\"+TERM)\n",
    "        # plt.plot(fl + const(fl), label=\"fl_\"+TERM)\n",
    "\n",
    "        fb = boxcox(fb + const(fb) )[0] \n",
    "        fl = boxcox(fl + const(fl) )[0]   \n",
    "\n",
    "    if HOLT:\n",
    "        fb = holt(fb)\n",
    "        fl = holt(fl)\n",
    "    \n",
    "    if DIFF:\n",
    "        fb = fb - fb.shift(1)\n",
    "        fl = fl - fl.shift(1)\n",
    "    \n",
    "    print(\"Flashback\")\n",
    "    kpss_test(fb.dropna(), verbose=True)\n",
    "    adf_test(fb.dropna(), verbose=True)\n",
    "    \n",
    "    print(\"Familjeliv\")\n",
    "    kpss_test(fl.dropna(), verbose=True)\n",
    "    adf_test(fl.dropna(), verbose=True)\n",
    "    print()\n",
    "# plt.legend()\n",
    "# plt.show"
   ]
  },
  {
   "cell_type": "markdown",
   "id": "e6a585bc-fd3e-422f-95c9-d174fefad8e6",
   "metadata": {},
   "source": [
    "## TS: VAR"
   ]
  },
  {
   "cell_type": "markdown",
   "id": "e9492104-9a9d-4fef-bc93-f1f594aaa2b8",
   "metadata": {},
   "source": [
    "### Utils"
   ]
  },
  {
   "cell_type": "code",
   "execution_count": 34,
   "id": "c61eee10-590a-47b5-ba86-f7d0ebc3b733",
   "metadata": {},
   "outputs": [],
   "source": [
    "def find_order_var(ts_df, rng=10):\n",
    "    results = []\n",
    "    rng = np.arange(1, rng)\n",
    "    for i in rng:\n",
    "        model = VAR(ts_df.dropna()).fit(i)\n",
    "        d = {\"AIC\": model.aic, \"BIC\": model.bic}\n",
    "        results.append(d)\n",
    "    df = pd.DataFrame(results)\n",
    "    df.index = rng\n",
    "    df[\"AIC_pref\"] = df[\"AIC\"].apply(lambda x: x == df[\"AIC\"].min())\n",
    "    df[\"BIC_pref\"] = df[\"BIC\"].apply(lambda x: x == df[\"BIC\"].min())\n",
    "    return df"
   ]
  },
  {
   "cell_type": "code",
   "execution_count": 35,
   "id": "02d37bf4-86c7-4bbb-9ae3-e9cd35cd7b08",
   "metadata": {},
   "outputs": [],
   "source": [
    "def pair_vis(df, ts_a=\"fb\", ts_b=\"fl\", norm=True, verbose_n_lags=None):\n",
    "    df = df.copy()\n",
    "    plt.figure(figsize=(12, 6), dpi=80)\n",
    "    x = df.index\n",
    "    plt.plot(x, zscore(df[ts_a], nan_policy=\"omit\"), label=ts_a)\n",
    "    plt.plot(x, zscore(df[ts_b], nan_policy=\"omit\"), label=ts_b)\n",
    "    if verbose_n_lags != None:   \n",
    "        for i in range(verbose_n_lags+1):\n",
    "            df[\"shift_A\"] = df[ts_a].shift(i) # <-- Direction of shift!\n",
    "            # if i > 0: # CHECK SHIFT!\n",
    "            #     return df\n",
    "            this_df = df[[\"shift_A\", ts_b]].dropna()\n",
    "            A, B = this_df[\"shift_A\"], this_df[ts_b]\n",
    "            corr, pval = pearsonr(A,B)\n",
    "            print(f\"For lag={i}, r={corr:.2f} (p={pval:.3f})\")\n",
    "    plt.legend()\n",
    "    plt.show()"
   ]
  },
  {
   "cell_type": "code",
   "execution_count": 36,
   "id": "87f31359-0f19-4c0e-ac23-54f5fb669770",
   "metadata": {},
   "outputs": [],
   "source": [
    "def pair_vis_lag(df, lag, ts_a=\"fb\", ts_b=\"fl\", norm=True, lags=None):\n",
    "    df = df.copy()\n",
    "    plt.figure(figsize=(12, 6), dpi=80)\n",
    "    x = df.index\n",
    "    df[ts_a] = zscore(df[ts_a], nan_policy=\"omit\")\n",
    "    a = df[ts_a].shift(lag)\n",
    "    plt.plot(x, a, label=ts_a)\n",
    "\n",
    "    plt.plot(x, zscore(df[ts_b], nan_policy=\"omit\"), label=ts_b)\n",
    "\n",
    "    plt.legend()\n",
    "    plt.show()"
   ]
  },
  {
   "cell_type": "code",
   "execution_count": 37,
   "id": "13aeb106-d8cf-40ba-b58c-45fd68cd30b0",
   "metadata": {},
   "outputs": [],
   "source": [
    "def pd2dict(df):\n",
    "    n_lags = len(set([row.split(\".\")[0] for row in df.index if row.startswith(\"L\")]))\n",
    "\n",
    "    d = {IV: {DV: {f\"L{i}\": None for i in range(1, n_lags+1)} for DV in df.columns} for IV in df.columns}\n",
    "    for dv in df.columns:\n",
    "        for iv in df.columns:\n",
    "            for lag in [f\"L{lag}\" for lag in range(1, n_lags+1)]:\n",
    "                value = df.loc[f\"{lag}.{iv}\"][dv]\n",
    "                d[dv][iv][lag] = value\n",
    "    return d    "
   ]
  },
  {
   "cell_type": "code",
   "execution_count": 38,
   "id": "43640bda-9d1b-43b5-9d7b-eed9e4a7d36b",
   "metadata": {},
   "outputs": [],
   "source": [
    "def star(p):\n",
    "    if p > 0.05:\n",
    "        if p <= 0.1:\n",
    "            return \"†\"\n",
    "        else:\n",
    "            return \"\"\n",
    "    else:\n",
    "        if p > 0.001:\n",
    "            if p <= 0.01:\n",
    "                return \"**\"\n",
    "            else:\n",
    "                return \"*\"\n",
    "        else:\n",
    "            return \"***\"    "
   ]
  },
  {
   "cell_type": "code",
   "execution_count": 39,
   "id": "c90c6160-88ef-479a-8416-6670c87e5feb",
   "metadata": {},
   "outputs": [],
   "source": [
    "def ziggy_column(results, name=None, round=3):\n",
    "\n",
    "    coefficients = pd2dict(results.params.round(round))\n",
    "    std_errors   = pd2dict(results.bse.round(round))\n",
    "    pvalues      = pd2dict(results.pvalues.round(round))\n",
    "\n",
    "    variables = coefficients.keys()\n",
    "\n",
    "    nlags = len(set([row.split(\".\")[0] for row in results.params.index if row.startswith(\"L\")]))\n",
    "\n",
    "    what     = []\n",
    "    how_much = []\n",
    "\n",
    "    for I in variables:\n",
    "        for counter, J in enumerate(variables):\n",
    "            for lag in [f\"L{i}\" for i in range(1, nlags+1)]:\n",
    "                what.append(f\"{I}<--{J}_{lag}\")\n",
    "                asterix = star(pvalues[I][J][lag]) \n",
    "                how_much.append(f\"{coefficients[I][J][lag]}{asterix}\")\n",
    "                what.append(f\"{I}<--{J}_{lag}.sd\")#\"sd\"+I+J+lag)\n",
    "                how_much.append(f\"({std_errors[I][J][lag]})\")\n",
    "\n",
    "    N = results.nobs\n",
    "\n",
    "    what = pd.Series(what)\n",
    "    \n",
    "    how_much = pd.Series(how_much)\n",
    "    if name != None:\n",
    "        how_much.rename(name, inplace=True)\n",
    "\n",
    "    df = pd.concat([what, how_much], axis = 1)\n",
    "\n",
    "    df.set_index(0, inplace=True)\n",
    "\n",
    "    return df  "
   ]
  },
  {
   "cell_type": "code",
   "execution_count": 40,
   "id": "22624b26-706a-4a5d-93f3-c808afb42101",
   "metadata": {},
   "outputs": [],
   "source": [
    "def ziggy(models, names = None, mapper=None):\n",
    "\n",
    "    # return ziggy_column(models[1])\n",
    "    if names == None:\n",
    "        names = [str(i) for i in range(1, len(models)+1)]\n",
    "        \n",
    "    df = pd.concat([ziggy_column(model, name=name) for model, name in zip(models, names)], axis = 1)\n",
    "\n",
    "    df.sort_index(inplace=True)\n",
    "\n",
    "    df[\"scratch\"] = df.index\n",
    "    df[[\"Equation\", \"Variable\"]] = df[\"scratch\"].str.split('<--', expand=True)\n",
    "    # df[[\"Variable\", \"Lag\"]] = df[\"bar\"].str.split('_', expand=True)\n",
    "    \n",
    "    #df[\"Equation\"] = df[\"Equation\"].apply(lambda x: \"\" if x.endswith(\"sd\") else x)\n",
    "    df[\"Variable\"] = df[\"Variable\"].apply(lambda x: \"\" if x.endswith(\"sd\") else x)\n",
    "\n",
    "    df[\"Equation\"] = np.where(df[\"Variable\"] == \"\", \"\", df[\"Equation\"]) \n",
    "    \n",
    "    df.reset_index(inplace=True)\n",
    "    df = df[[\"Equation\", \"Variable\"] + names]\n",
    "    # df.drop([[\"scratch\", \"0\"]], axis=1, inplace=True)\n",
    "\n",
    "    if mapper != None:\n",
    "        df[\"Equation\"] = df[\"Equation\"].map(mapper)\n",
    "        df[\"Variable\"] = df[\"Variable\"].map(mapper)\n",
    "\n",
    "    df.fillna(\"\", inplace=True)\n",
    "    return df"
   ]
  },
  {
   "cell_type": "code",
   "execution_count": 41,
   "id": "98f115a4-2022-4347-a6c7-87006f2cc2ac",
   "metadata": {},
   "outputs": [],
   "source": [
    "# ziggy(MODELS, M_NAMES, MAPPER)"
   ]
  },
  {
   "cell_type": "code",
   "execution_count": 42,
   "id": "c9b87d6a-f827-4839-8d33-d0890d1d2147",
   "metadata": {},
   "outputs": [],
   "source": [
    "def skewie():\n",
    "    payload = df_for_var(sqdf[sqdf[\"date\"] > pd.Timestamp(year=YEAR, month=MONTH, day=MONTH)], TERM, MEASURE, FILL)\n",
    "    plt.hist(payload[\"fb\"])\n",
    "    plt.show()\n",
    "    plt.hist(payload[\"fl\"])\n",
    "    plt.show()"
   ]
  },
  {
   "cell_type": "code",
   "execution_count": 43,
   "id": "1d4fc0b5-0c38-43c7-8f93-70728be1ff43",
   "metadata": {},
   "outputs": [],
   "source": [
    "def walliz(x):\n",
    "    z = x / (1-x)\n",
    "    z = np.log(z)\n",
    "    return z"
   ]
  },
  {
   "cell_type": "markdown",
   "id": "681b1354-4262-4100-bf7a-96b3eadbcb86",
   "metadata": {},
   "source": [
    "## Run VAR models "
   ]
  },
  {
   "cell_type": "markdown",
   "id": "fd6dd9f5-17a8-47b0-9e31-62c7e1983ca5",
   "metadata": {
    "jp-MarkdownHeadingCollapsed": true
   },
   "source": [
    "### Visualize"
   ]
  },
  {
   "cell_type": "code",
   "execution_count": null,
   "id": "c4cac0bf-b9a9-415f-bf58-2e0d477def44",
   "metadata": {
    "scrolled": true
   },
   "outputs": [],
   "source": [
    "ALPHA = 1.0\n",
    "MEAS, DTR = \"I_ang\", \"I_ang_dtr\"\n",
    "# FILL = \"mean\"\n",
    "FILL = \"previous\"\n",
    "FIRST_FILL = \"next\"\n",
    "for COMMUNITY in [\"fb\", \"fl\"]:\n",
    "    print(COMMUNITY)\n",
    "    for TERM, diff, dtrend in [('V1_berika', True, False), ('N1_globalist', True, False), ('N1_återvandring', True, False)]:#, ('V1_återvandra', True, False)]:#= \"V1_berika\"\n",
    "        plt.figure(figsize=(7,1.8))\n",
    "\n",
    "        # Original time series\n",
    "        # payload = df_for_var(sqdf[sqdf[\"date\"] > pd.Timestamp(year=YEAR, month=MONTH, day=MONTH)], TERM, \"I_ang\", 0.5)\n",
    "        # payload = df_for_var(sqdf[sqdf[\"date\"] > pd.Timestamp(year=YEAR, month=MONTH, day=MONTH)], TERM, \"I_ang\", \"mean\")\n",
    "        # payload = df_for_var(sqdf[sqdf[\"date\"] > pd.Timestamp(year=YEAR, month=MONTH, day=MONTH)], TERM, \"I_ang\", \"min\")\n",
    "        payload = df_for_var(sqdf[sqdf[\"date\"] > pd.Timestamp(year=YEAR, month=MONTH, day=MONTH)], TERM, MEAS, FILL, FIRST_FILL)\n",
    "        # payload = df_for_var(sqdf[sqdf[\"date\"] > pd.Timestamp(year=YEAR, month=MONTH, day=MONTH)], TERM, \"cnt_ssc\", 0.5)\n",
    "        A = zscore(payload[COMMUNITY], nan_policy=\"omit\")\n",
    "        plt.plot(A, label=\"Orig\", linestyle='dashed')#, linewidth=2, alpha=ALPHA) # 'dashed'\n",
    "        # plt.scatter(x=payload.index, y=A, s=11, alpha=ALPHA)\n",
    "\n",
    "        # RED DOT!\n",
    "        # ... fix this!!\n",
    "        # for_mask = df_for_var(sqdf[sqdf[\"date\"] > pd.Timestamp(year=YEAR, month=MONTH, day=MONTH)], TERM, MEAS, None)\n",
    "        # MASK = for_mask[COMMUNITY].isna()\n",
    "\n",
    "        # Transformed time series\n",
    "        # payload = df_for_var(sqdf[sqdf[\"date\"] > pd.Timestamp(year=YEAR, month=MONTH, day=MONTH)], TERM, \"I_ang\", 0.5)\n",
    "        # payload = df_for_var(sqdf[sqdf[\"date\"] > pd.Timestamp(year=YEAR, month=MONTH, day=MONTH)], TERM, \"I_ang_dtr\", 0)\n",
    "        # payload = df_for_var(sqdf[sqdf[\"date\"] > pd.Timestamp(year=YEAR, month=MONTH, day=MONTH)], TERM, \"cnt_ssc\", 0.5)\n",
    "        if dtrend:\n",
    "            payload = df_for_var(sqdf[sqdf[\"date\"] > pd.Timestamp(year=YEAR, month=MONTH, day=MONTH)], TERM, DTR, None)\n",
    "            \n",
    "            # payload = df_for_var(sqdf[sqdf[\"date\"] > pd.Timestamp(year=YEAR, month=MONTH, day=MONTH)], TERM, DTR, \"interpolate\")\n",
    "\n",
    "        if diff:\n",
    "            payload[COMMUNITY] = differencing(payload, COMMUNITY)\n",
    "\n",
    "        if dtrend or diff:\n",
    "            plt.plot(zscore(payload[COMMUNITY], nan_policy=\"omit\"), label=\"Transf.\")#, linewidth=1.5)#, c=\"black\", alpha=1.0, label=\"Transf.\")\n",
    "        \n",
    "        # RED DOT!\n",
    "        # ... fix this!!\n",
    "        for_mask = df_for_var(sqdf[sqdf[\"date\"] > pd.Timestamp(year=YEAR, month=MONTH, day=MONTH)], TERM, MEAS, None)\n",
    "        MASK = for_mask[COMMUNITY].isna()\n",
    "        plt.scatter(x=payload.index, y=A.where(MASK), c=\"red\", marker=\"o\", s=12, alpha=1.0)\n",
    "\n",
    "        \n",
    "        plt.title(TERM.split(\"_\")[-1], fontsize=10)\n",
    "        # plt.legend()\n",
    "        plt.show()"
   ]
  },
  {
   "cell_type": "code",
   "execution_count": null,
   "id": "2a275b9d-7b63-4597-b0bc-7867597d512e",
   "metadata": {},
   "outputs": [],
   "source": [
    "MEAS, DTR = \"I_ang\", \"I_ang_dtr\"\n",
    "for COMMUNITY in [\"fb\", \"fl\"]:\n",
    "    print(COMMUNITY)\n",
    "    for TERM in DWEs:\n",
    "        plt.figure(figsize=(6,1.5))\n",
    "\n",
    "        payload = df_for_var(sqdf[sqdf[\"date\"] > pd.Timestamp(year=YEAR, month=MONTH, day=MONTH)], TERM, MEAS, \"previous\", \"next\")\n",
    "        plt.plot(zscore(payload[COMMUNITY], nan_policy=\"omit\"), label=\"Previous-Next\", linestyle='dashed', alpha=0.5)\n",
    "        plt.scatter(x=payload.index, y=zscore(payload[COMMUNITY], nan_policy=\"omit\"), s=10, alpha=0.5)\n",
    "\n",
    "        payload = df_for_var(sqdf[sqdf[\"date\"] > pd.Timestamp(year=YEAR, month=MONTH, day=MONTH)], TERM, MEAS, \"mean\")\n",
    "        plt.plot(zscore(payload[COMMUNITY], nan_policy=\"omit\"), label=\"Mean\", linestyle='dashed', alpha=0.5)\n",
    "        plt.scatter(x=payload.index, y=zscore(payload[COMMUNITY], nan_policy=\"omit\"), s=10, alpha=0.5)\n",
    "\n",
    "        plt.title(TERM.split(\"_\")[-1], fontsize=10)\n",
    "        # plt.legend()\n",
    "        plt.show()"
   ]
  },
  {
   "cell_type": "markdown",
   "id": "7b765184-0a68-47ac-9923-1ba75c4feb18",
   "metadata": {},
   "source": [
    "Hur kan detta spela så stor roll? För globalist blir det stor skillnad. Mindre så för berika och återvandring (men återvandring förlorar granger causality vid alpha = 0.05 vid Previous-Next)"
   ]
  },
  {
   "cell_type": "markdown",
   "id": "8eb8d61e-6a4c-4072-9246-b3da366d6f57",
   "metadata": {},
   "source": [
    "### For regression"
   ]
  },
  {
   "cell_type": "code",
   "execution_count": 44,
   "id": "f98201f2-4b60-4138-86b2-5ed12e855438",
   "metadata": {},
   "outputs": [],
   "source": [
    "MAPPER = {\n",
    "    \"fb\": \"$FB_t$\",\n",
    "    \"fl\": \"$FL_t$\"\n",
    "}\n",
    "MAPPER.update({f\"fb_L{i}\": f\"$FB_{{t-{i}}}$\" for i in range(1, 5)})\n",
    "MAPPER.update({f\"fl_L{i}\": f\"$FL_{{t-{i}}}$\" for i in range(1, 5)})"
   ]
  },
  {
   "cell_type": "code",
   "execution_count": 45,
   "id": "f100725f-0e37-4fa2-9e2c-6e685e47a064",
   "metadata": {},
   "outputs": [],
   "source": [
    "# print(ziggy(MODELS, M_NAMES, mapper=MAPPER).to_latex(index=False))"
   ]
  },
  {
   "cell_type": "code",
   "execution_count": 46,
   "id": "34c7346d-5294-48ae-8bf2-835a4ff50123",
   "metadata": {},
   "outputs": [],
   "source": [
    "YEAR  = 2010\n",
    "MONTH = 1\n",
    "DAY   = 1"
   ]
  },
  {
   "cell_type": "code",
   "execution_count": 47,
   "id": "02b65771-7296-4b1c-bba5-a840bf6598b9",
   "metadata": {},
   "outputs": [],
   "source": [
    "MEASURE, FILL = \"I_ang_dtr\", None"
   ]
  },
  {
   "cell_type": "code",
   "execution_count": 48,
   "id": "c2231b4a-4ab0-4b85-a791-a6b301aa692f",
   "metadata": {},
   "outputs": [],
   "source": [
    "MODELS, M_NAMES, IRFS = [], [], []"
   ]
  },
  {
   "cell_type": "code",
   "execution_count": 49,
   "id": "ebedfa1d-dc5d-452d-85af-01130ba4e7b3",
   "metadata": {},
   "outputs": [],
   "source": [
    "DWEs = [\n",
    "    \"N1_globalist\",\n",
    "    \"N1_återvandring\",\n",
    "    # \"V1_återvandra\",\n",
    "    \"V1_berika\",\n",
    "    # \"N1_kulturberikare\"\n",
    "]"
   ]
  },
  {
   "cell_type": "code",
   "execution_count": 50,
   "id": "47006026-2adb-4cff-9af0-866c87589cd7",
   "metadata": {},
   "outputs": [
    {
     "data": {
      "text/plain": [
       "['N1_globalist', 'N1_återvandring', 'V1_berika']"
      ]
     },
     "execution_count": 50,
     "metadata": {},
     "output_type": "execute_result"
    }
   ],
   "source": [
    "DWEs"
   ]
  },
  {
   "cell_type": "markdown",
   "id": "51660b64-9297-41ff-bca0-7e80730ed9a9",
   "metadata": {},
   "source": [
    "### *BERIKA*"
   ]
  },
  {
   "cell_type": "code",
   "execution_count": 52,
   "id": "fc24f04e-6fe2-407b-91b8-a3af91e2210d",
   "metadata": {},
   "outputs": [],
   "source": [
    "TERM = \"V1_berika\"\n",
    "M_NAMES.append(TERM)"
   ]
  },
  {
   "cell_type": "code",
   "execution_count": 53,
   "id": "d06db4fe-88be-4700-824b-b5a7a2ff12a3",
   "metadata": {},
   "outputs": [],
   "source": [
    "# payload = df_for_var(sqdf[sqdf[\"date\"] > pd.Timestamp(year=YEAR, month=MONTH, day=MONTH)], TERM, MEASURE, FILL)\n",
    "# payload = df_for_var(sqdf[sqdf[\"date\"] > pd.Timestamp(year=YEAR, month=MONTH, day=MONTH)], TERM, MEASURE, \"mean\") \n",
    "payload = df_for_var(sqdf[sqdf[\"date\"] > pd.Timestamp(year=YEAR, month=MONTH, day=MONTH)], TERM, \"I_ang\", \"previous\", \"next\") # <-- Paper (2)\n",
    "# payload = df_for_var(sqdf[sqdf[\"date\"] > pd.Timestamp(year=YEAR, month=MONTH, day=MONTH)], TERM, \"I_ang\", \"min\")\n",
    "# payload = df_for_var(sqdf[sqdf[\"date\"] > pd.Timestamp(year=YEAR, month=MONTH, day=MONTH)], TERM, \"I_ang\", 0.5)\n",
    "# payload = df_for_var(sqdf[sqdf[\"date\"] > pd.Timestamp(year=YEAR, month=MONTH, day=MONTH)], TERM, \"I_ang_dtr\", 0.5)\n",
    "# payload = df_for_var(sqdf[sqdf[\"date\"] > pd.Timestamp(year=YEAR, month=MONTH, day=MONTH)], TERM, \"I_ang\", \"mean\")           # <-- Paper (1)\n",
    "# payload = df_for_var(sqdf[sqdf[\"date\"] > pd.Timestamp(year=YEAR, month=MONTH, day=MONTH)], TERM, \"I_ang_dtr\", \"mean\")\n",
    "# payload = df_for_var(sqdf[sqdf[\"date\"] > pd.Timestamp(year=YEAR, month=MONTH, day=MONTH)], TERM, \"cnt_ssc\", \"previous\", \"next\")\n",
    "payload[\"fb\"] = differencing(payload, \"fb\")   # <-- Paper\n",
    "payload[\"fl\"] = differencing(payload, \"fl\")   # <-- Paper\n",
    "# payload[\"fb\"] = walliz(payload[\"fb\"])\n",
    "# payload[\"fl\"] = walliz(payload[\"fl\"])"
   ]
  },
  {
   "cell_type": "code",
   "execution_count": null,
   "id": "08ed2ca8-5d06-42e8-906c-d03d75b8c663",
   "metadata": {},
   "outputs": [],
   "source": [
    "# skewie()"
   ]
  },
  {
   "cell_type": "code",
   "execution_count": 54,
   "id": "81ecad67-24b1-4526-9433-f2428c044e5d",
   "metadata": {},
   "outputs": [
    {
     "name": "stdout",
     "output_type": "stream",
     "text": [
      "3\n",
      " VAR Order Selection (* highlights the minimums) \n",
      "=================================================\n",
      "      AIC         BIC         FPE         HQIC   \n",
      "-------------------------------------------------\n",
      "0      -17.14      -17.06   3.598e-08      -17.11\n",
      "1      -17.36     -17.14*   2.882e-08      -17.28\n",
      "2      -17.43      -17.05   2.688e-08      -17.29\n",
      "3     -17.60*      -17.07  2.287e-08*     -17.39*\n",
      "4      -17.51      -16.82   2.515e-08      -17.25\n",
      "-------------------------------------------------\n"
     ]
    }
   ],
   "source": [
    "# find_order_var(payload, 5)\n",
    "# https://medium.com/@Alidotab/mastering-forecasting-unveiling-the-power-of-var-modeling-for-dynamic-time-series-prediction-1b87a7d63b4b\n",
    "print(find_lag(payload))\n",
    "model = VAR(payload.dropna())\n",
    "# Determining the optimal lag order\n",
    "lag_order_results = model.select_order(maxlags=4)\n",
    "print(lag_order_results.summary())"
   ]
  },
  {
   "cell_type": "code",
   "execution_count": null,
   "id": "6bcc0921-b98e-4705-acf9-73dcb8aae4fe",
   "metadata": {},
   "outputs": [],
   "source": [
    "# lag_order_results.__dict__"
   ]
  },
  {
   "cell_type": "code",
   "execution_count": 55,
   "id": "6c7b447c-7e37-4d1b-aa12-ec55b9e7abad",
   "metadata": {},
   "outputs": [
    {
     "data": {
      "text/plain": [
       "  Summary of Regression Results   \n",
       "==================================\n",
       "Model:                         VAR\n",
       "Method:                        OLS\n",
       "Date:           Thu, 17, Apr, 2025\n",
       "Time:                     10:28:33\n",
       "--------------------------------------------------------------------\n",
       "No. of Equations:         2.00000    BIC:                   -17.1127\n",
       "Nobs:                     52.0000    HQIC:                  -17.4366\n",
       "Log likelihood:           325.019    FPE:                2.19449e-08\n",
       "AIC:                     -17.6380    Det(Omega_mle):     1.70466e-08\n",
       "--------------------------------------------------------------------\n",
       "Results for equation fb\n",
       "========================================================================\n",
       "           coefficient       std. error           t-stat            prob\n",
       "------------------------------------------------------------------------\n",
       "const        -0.000039         0.000683           -0.058           0.954\n",
       "L1.fb        -0.676354         0.140884           -4.801           0.000\n",
       "L1.fl        -0.013117         0.025390           -0.517           0.605\n",
       "L2.fb        -0.426901         0.166751           -2.560           0.010\n",
       "L2.fl        -0.012704         0.026658           -0.477           0.634\n",
       "L3.fb        -0.279810         0.147693           -1.895           0.058\n",
       "L3.fl        -0.012125         0.027223           -0.445           0.656\n",
       "========================================================================\n",
       "\n",
       "Results for equation fl\n",
       "========================================================================\n",
       "           coefficient       std. error           t-stat            prob\n",
       "------------------------------------------------------------------------\n",
       "const        -0.001646         0.003710           -0.444           0.657\n",
       "L1.fb         1.379993         0.765495            1.803           0.071\n",
       "L1.fl        -0.463349         0.137957           -3.359           0.001\n",
       "L2.fb         1.367262         0.906046            1.509           0.131\n",
       "L2.fl        -0.509544         0.144847           -3.518           0.000\n",
       "L3.fb         2.465436         0.802491            3.072           0.002\n",
       "L3.fl        -0.247832         0.147915           -1.676           0.094\n",
       "========================================================================\n",
       "\n",
       "Correlation matrix of residuals\n",
       "            fb        fl\n",
       "fb    1.000000  0.090997\n",
       "fl    0.090997  1.000000\n",
       "\n"
      ]
     },
     "execution_count": 55,
     "metadata": {},
     "output_type": "execute_result"
    }
   ],
   "source": [
    "# del var_model\n",
    "var_model = VAR(payload.dropna()).fit(3)\n",
    "MODELS.append(var_model)\n",
    "var_model.summary()"
   ]
  },
  {
   "cell_type": "code",
   "execution_count": null,
   "id": "da73f2f3-8a00-4765-b01e-5fec5a703189",
   "metadata": {},
   "outputs": [],
   "source": [
    "# var_model.test_normality(signif=0.05).summary()"
   ]
  },
  {
   "cell_type": "code",
   "execution_count": null,
   "id": "b7492401-97d8-403b-90a0-30b69ee26528",
   "metadata": {},
   "outputs": [],
   "source": [
    "# plt.hist(var_model.resid[\"fl\"])"
   ]
  },
  {
   "cell_type": "code",
   "execution_count": null,
   "id": "38e85c4e-76e3-4a30-8485-5749f9584b24",
   "metadata": {},
   "outputs": [],
   "source": [
    "# print(var_model.k_ar)"
   ]
  },
  {
   "cell_type": "code",
   "execution_count": null,
   "id": "4d820fe9-b1f1-4eec-953b-f50d70d8ece1",
   "metadata": {},
   "outputs": [],
   "source": [
    "# var_model.__dict__"
   ]
  },
  {
   "cell_type": "code",
   "execution_count": null,
   "id": "148ae5fa-d5f0-4433-af9a-9655da3c56cd",
   "metadata": {},
   "outputs": [],
   "source": [
    "# var_model.model.__dict__"
   ]
  },
  {
   "cell_type": "code",
   "execution_count": null,
   "id": "bbdb758a-483d-4a23-b5e9-c4e1ea1e1da0",
   "metadata": {},
   "outputs": [],
   "source": [
    "# gc = var_model.test_causality(\"fl\", [\"fb\"])"
   ]
  },
  {
   "cell_type": "code",
   "execution_count": null,
   "id": "f165f154-1ae3-4c18-ad6e-ef7d0e19c86f",
   "metadata": {},
   "outputs": [],
   "source": [
    "# gc.__dict__"
   ]
  },
  {
   "cell_type": "code",
   "execution_count": null,
   "id": "f5396eb7-d819-45be-a1bd-adaf17e36160",
   "metadata": {},
   "outputs": [],
   "source": [
    "# gc.pvalue"
   ]
  },
  {
   "cell_type": "code",
   "execution_count": null,
   "id": "10b9f3b2-6dc1-4c59-8b49-eb259d81eeab",
   "metadata": {},
   "outputs": [],
   "source": [
    "var_model.test_causality(\"fl\", [\"fb\"]).summary()"
   ]
  },
  {
   "cell_type": "code",
   "execution_count": 56,
   "id": "d9308ba2-6b3b-404b-bcee-72429c6da458",
   "metadata": {},
   "outputs": [],
   "source": [
    "irf = var_model.irf(10)\n",
    "IRFS.append(irf)"
   ]
  },
  {
   "cell_type": "code",
   "execution_count": null,
   "id": "39cf5858-9954-4365-87eb-0efe9ff5adbc",
   "metadata": {},
   "outputs": [],
   "source": [
    "irf_plt = irf.plot(impulse=\"fb\", response=\"fl\", figsize=(6,2))\n",
    "# irf_plt = irf.plot_cum_effects(impulse=\"fb\", response=\"fl\", figsize=(6,2))\n",
    "irf_plt.get_figure().suptitle('')\n",
    "plt.title(TERM.split(\"_\")[-1])\n",
    "plt.show()"
   ]
  },
  {
   "cell_type": "code",
   "execution_count": null,
   "id": "7f15c865-7505-48bb-a6d4-1d397c05261a",
   "metadata": {},
   "outputs": [],
   "source": [
    "# def unpack_irf(irf_obj, row=1, column=0):\n",
    "#     irf   = np.array([x[row][column] for x in irf_obj.irfs])\n",
    "#     lower = np.array([x[row][column] for x in irf_obj.errband_mc()[0]])\n",
    "#     upper = np.array([x[row][column] for x in irf_obj.errband_mc()[1]])\n",
    "\n",
    "#     return irf, lower, upper"
   ]
  },
  {
   "cell_type": "code",
   "execution_count": null,
   "id": "956b26aa-b6ef-46d4-87a6-2e6d7136683c",
   "metadata": {},
   "outputs": [],
   "source": [
    "# def plot_multi_IRFS(irfs,names):\n",
    "#     fig, axs = plt.subplots(len(irfs),1, figsize=(6,2*len(irfs)), sharex=True)#, sharey=True)\n",
    "\n",
    "#     for ax, irf_obj, name in zip(axs, irfs, names):\n",
    "#         values, lower, upper = unpack_irf(irf_obj, row=1, column=0)\n",
    "    \n",
    "#         ax.plot(range(values.shape[0]), values)\n",
    "#         ax.fill_between(range(X.shape[0]), Y, Z, alpha=0.2)\n",
    "#         ax.axhline(y=0)\n",
    "\n",
    "#         # ax.set_xlabel(\"Time (quarters)\")\n",
    "#         # ax.set_ylabel(\"Intensity in Familjeliv\")\n",
    "\n",
    "#         ax.set_title(name)\n",
    "\n",
    "\n",
    "#     fig.supxlabel('Time (quarters)')\n",
    "#     fig.supylabel('Impulse response of intensity in Familjeliv')\n",
    "    \n",
    "#     fig.tight_layout()\n",
    "#     plt.show()"
   ]
  },
  {
   "cell_type": "code",
   "execution_count": null,
   "id": "d328af88-ae44-48b6-81b7-12c19f2bf172",
   "metadata": {},
   "outputs": [],
   "source": [
    "# plot_multi_IRFS(IRFS,[\"foo\"]*len(IRFS))"
   ]
  },
  {
   "cell_type": "code",
   "execution_count": null,
   "id": "9d091581-cf53-470b-97e3-53ab4a63ea74",
   "metadata": {},
   "outputs": [],
   "source": [
    "irf_plt = irf.plot(impulse=\"fl\", response=\"fb\", figsize=(6,2))\n",
    "# irf_plt = irf.plot_cum_effects(impulse=\"fb\", response=\"fl\", figsize=(6,2))\n",
    "irf_plt.get_figure().suptitle('')\n",
    "plt.show()"
   ]
  },
  {
   "cell_type": "code",
   "execution_count": null,
   "id": "4eeecf4d-1ad9-4ce2-be3d-f3627e6122fa",
   "metadata": {},
   "outputs": [],
   "source": [
    "# irf.plot_cum_effects(impulse=\"fb\", response=\"fl\", figsize=(3,3))\n",
    "# plt.show()"
   ]
  },
  {
   "cell_type": "code",
   "execution_count": null,
   "id": "761132a0-aa7a-4b91-9cb5-de20fbfcde49",
   "metadata": {},
   "outputs": [],
   "source": [
    "# irf.plot_cum_effects(orth=False)\n",
    "# plt.show()"
   ]
  },
  {
   "cell_type": "code",
   "execution_count": null,
   "id": "6847f11d-232b-4d94-af7f-cac105a82ff1",
   "metadata": {},
   "outputs": [],
   "source": [
    "# for p, v in var_model.__dict__.items():\n",
    "#     print(p, \":::\", v)"
   ]
  },
  {
   "cell_type": "code",
   "execution_count": null,
   "id": "e74a94fb-7c6c-40c6-ad62-4849d8e210d3",
   "metadata": {},
   "outputs": [],
   "source": [
    "# var_model.params"
   ]
  },
  {
   "cell_type": "code",
   "execution_count": null,
   "id": "326f0dd7-ff04-402a-b877-1297aae5d490",
   "metadata": {},
   "outputs": [],
   "source": [
    "# var_model.bse"
   ]
  },
  {
   "cell_type": "code",
   "execution_count": null,
   "id": "22a4deb7-97df-44e6-9b72-c73aeb358e13",
   "metadata": {},
   "outputs": [],
   "source": [
    "# var_model.pvalues"
   ]
  },
  {
   "cell_type": "markdown",
   "id": "bd6f2a0b-0f84-403d-aa10-e038bb3f62e8",
   "metadata": {},
   "source": [
    "### *GLOBALIST*"
   ]
  },
  {
   "cell_type": "code",
   "execution_count": 57,
   "id": "8bfb79f0-cc23-45bc-b843-1c2b28e8a04f",
   "metadata": {},
   "outputs": [],
   "source": [
    "TERM = \"N1_globalist\"\n",
    "M_NAMES.append(TERM)"
   ]
  },
  {
   "cell_type": "code",
   "execution_count": 58,
   "id": "6961c63f-178e-48b4-b9e0-ca63a781657e",
   "metadata": {},
   "outputs": [],
   "source": [
    "# payload = df_for_var(sqdf[sqdf[\"date\"] > pd.Timestamp(year=YEAR, month=MONTH, day=MONTH)], TERM, MEASURE, FILL)\n",
    "# payload = df_for_var(sqdf[sqdf[\"date\"] > pd.Timestamp(year=YEAR, month=MONTH, day=MONTH)], TERM, \"I_ang\", \"mean\") # <--\n",
    "# payload = df_for_var(sqdf[sqdf[\"date\"] > pd.Timestamp(year=YEAR, month=MONTH, day=MONTH)], TERM, \"I_ang\", \"min\")\n",
    "# payload = df_for_var(sqdf[sqdf[\"date\"] > pd.Timestamp(year=YEAR, month=MONTH, day=MONTH)], TERM, \"I_ang_dtr\", 0.5)\n",
    "payload = df_for_var(sqdf[sqdf[\"date\"] > pd.Timestamp(year=YEAR, month=MONTH, day=MONTH)], TERM, \"I_ang\", \"previous\", \"next\") # <--\n",
    "payload[\"fb\"] = differencing(payload, \"fb\")\n",
    "payload[\"fl\"] = differencing(payload, \"fl\")\n",
    "# payload[\"fb\"] = walliz(payload[\"fb\"])\n",
    "# payload[\"fl\"] = walliz(payload[\"fl\"])\n",
    "# payload = payload[[\"fl\", \"fb\"]] # <-- Obs!!"
   ]
  },
  {
   "cell_type": "code",
   "execution_count": 59,
   "id": "646e7c97-c6df-4aa7-a4b8-1c334a187464",
   "metadata": {},
   "outputs": [
    {
     "name": "stdout",
     "output_type": "stream",
     "text": [
      "2\n",
      " VAR Order Selection (* highlights the minimums) \n",
      "=================================================\n",
      "      AIC         BIC         FPE         HQIC   \n",
      "-------------------------------------------------\n",
      "0      -17.16     -17.09*   3.518e-08      -17.13\n",
      "1      -17.23      -17.00   3.284e-08     -17.15*\n",
      "2     -17.26*      -16.88  3.195e-08*      -17.12\n",
      "3      -17.12      -16.59   3.700e-08      -16.91\n",
      "4      -17.06      -16.38   3.914e-08      -16.80\n",
      "-------------------------------------------------\n"
     ]
    }
   ],
   "source": [
    "print(find_lag(payload))\n",
    "model = VAR(payload.dropna())\n",
    "# Determining the optimal lag order\n",
    "lag_order_results = model.select_order(maxlags=4)\n",
    "print(lag_order_results.summary())"
   ]
  },
  {
   "cell_type": "code",
   "execution_count": 60,
   "id": "26db761b-0178-489c-a027-021d516b5d9d",
   "metadata": {},
   "outputs": [
    {
     "data": {
      "text/plain": [
       "  Summary of Regression Results   \n",
       "==================================\n",
       "Model:                         VAR\n",
       "Method:                        OLS\n",
       "Date:           Thu, 17, Apr, 2025\n",
       "Time:                     10:29:14\n",
       "--------------------------------------------------------------------\n",
       "No. of Equations:         2.00000    BIC:                   -16.9428\n",
       "Nobs:                     53.0000    HQIC:                  -17.1716\n",
       "Log likelihood:           318.427    FPE:                3.02616e-08\n",
       "AIC:                     -17.3145    Det(Omega_mle):     2.52689e-08\n",
       "--------------------------------------------------------------------\n",
       "Results for equation fb\n",
       "========================================================================\n",
       "           coefficient       std. error           t-stat            prob\n",
       "------------------------------------------------------------------------\n",
       "const        -0.000208         0.000671           -0.310           0.756\n",
       "L1.fb        -0.528737         0.129365           -4.087           0.000\n",
       "L1.fl        -0.028233         0.021022           -1.343           0.179\n",
       "L2.fb        -0.308293         0.128627           -2.397           0.017\n",
       "L2.fl         0.012087         0.021159            0.571           0.568\n",
       "========================================================================\n",
       "\n",
       "Results for equation fl\n",
       "========================================================================\n",
       "           coefficient       std. error           t-stat            prob\n",
       "------------------------------------------------------------------------\n",
       "const         0.000878         0.004506            0.195           0.845\n",
       "L1.fb        -0.620989         0.868716           -0.715           0.475\n",
       "L1.fl        -0.160713         0.141166           -1.138           0.255\n",
       "L2.fb         0.365396         0.863761            0.423           0.672\n",
       "L2.fl        -0.278216         0.142084           -1.958           0.050\n",
       "========================================================================\n",
       "\n",
       "Correlation matrix of residuals\n",
       "            fb        fl\n",
       "fb    1.000000  0.018883\n",
       "fl    0.018883  1.000000\n",
       "\n"
      ]
     },
     "execution_count": 60,
     "metadata": {},
     "output_type": "execute_result"
    }
   ],
   "source": [
    "var_model = VAR(payload.dropna()).fit(2)\n",
    "MODELS.append(var_model)\n",
    "var_model.summary()"
   ]
  },
  {
   "cell_type": "code",
   "execution_count": null,
   "id": "80084ec1-d8ba-481e-8cd2-26d655fd8516",
   "metadata": {},
   "outputs": [],
   "source": [
    "var_model.test_normality(signif=0.05).summary()"
   ]
  },
  {
   "cell_type": "code",
   "execution_count": null,
   "id": "cdcb64b6-f0c3-428d-b49e-5a15441bed36",
   "metadata": {},
   "outputs": [],
   "source": [
    "plt.hist(var_model.resid[\"fb\"])"
   ]
  },
  {
   "cell_type": "code",
   "execution_count": null,
   "id": "ab319e0a-35a9-4b62-aee9-f185aa74d904",
   "metadata": {},
   "outputs": [],
   "source": [
    "var_model.test_causality(\"fl\", [\"fb\"]).summary()"
   ]
  },
  {
   "cell_type": "code",
   "execution_count": 61,
   "id": "a48a3373-2e07-40d8-8e13-0d793f99252f",
   "metadata": {},
   "outputs": [],
   "source": [
    "irf = var_model.irf(10)\n",
    "IRFS.append(irf)"
   ]
  },
  {
   "cell_type": "code",
   "execution_count": null,
   "id": "af14aadf-18d0-4264-a06e-c4f732b7d64a",
   "metadata": {},
   "outputs": [],
   "source": [
    "irf_plt = irf.plot(impulse=\"fb\", response=\"fl\", figsize=(6,2))\n",
    "# irf_plt = irf.plot_cum_effects(impulse=\"fb\", response=\"fl\", figsize=(6,2))\n",
    "irf_plt.get_figure().suptitle('')\n",
    "plt.title(TERM.split(\"_\")[-1])\n",
    "plt.show()"
   ]
  },
  {
   "cell_type": "code",
   "execution_count": null,
   "id": "c6a7b9bc-e384-4c69-945a-7bedb82d409d",
   "metadata": {},
   "outputs": [],
   "source": [
    "irf_plt = irf.plot(impulse=\"fl\", response=\"fb\", figsize=(6,2))\n",
    "# irf_plt = irf.plot_cum_effects(impulse=\"fb\", response=\"fl\", figsize=(6,2))\n",
    "irf_plt.get_figure().suptitle('')\n",
    "plt.show()"
   ]
  },
  {
   "cell_type": "markdown",
   "id": "08b9e79e-e0d2-4e80-94f5-68c0920ca1f2",
   "metadata": {},
   "source": [
    "### *ÅTERVANDRING*"
   ]
  },
  {
   "cell_type": "code",
   "execution_count": 62,
   "id": "0224dc56-a0b1-489f-b729-20b0de3b4881",
   "metadata": {},
   "outputs": [],
   "source": [
    "TERM = \"N1_återvandring\"\n",
    "# TERM = \"V1_återvandra\"\n",
    "M_NAMES.append(TERM)"
   ]
  },
  {
   "cell_type": "code",
   "execution_count": 63,
   "id": "5ac3124a-ece5-46d0-a1b8-da4fbb8877a4",
   "metadata": {},
   "outputs": [],
   "source": [
    "# payload = df_for_var(sqdf[sqdf[\"date\"] > pd.Timestamp(year=YEAR, month=MONTH, day=MONTH)], TERM, MEASURE, FILL)\n",
    "# payload = df_for_var(sqdf[sqdf[\"date\"] > pd.Timestamp(year=YEAR, month=MONTH, day=MONTH)], TERM, \"I_ang\", \"mean\") # <--\n",
    "# payload = df_for_var(sqdf[sqdf[\"date\"] > pd.Timestamp(year=YEAR, month=MONTH, day=MONTH)], TERM, \"I_ang\", \"min\")\n",
    "# payload = df_for_var(sqdf[sqdf[\"date\"] > pd.Timestamp(year=YEAR, month=MONTH, day=MONTH)], TERM, \"I_ang\", 0.5)\n",
    "payload = df_for_var(sqdf[sqdf[\"date\"] > pd.Timestamp(year=YEAR, month=MONTH, day=MONTH)], TERM, \"I_ang\", \"previous\", \"next\") # <--\n",
    "# payload = df_for_var(sqdf[sqdf[\"date\"] > pd.Timestamp(year=YEAR, month=MONTH, day=MONTH)], TERM, \"cnt_ssc\", \"previous\", \"next\")\n",
    "payload[\"fb\"] = differencing(payload, \"fb\")\n",
    "payload[\"fl\"] = differencing(payload, \"fl\")\n",
    "# payload[\"fb\"] = walliz(payload[\"fb\"])\n",
    "# payload[\"fl\"] = walliz(payload[\"fl\"])"
   ]
  },
  {
   "cell_type": "code",
   "execution_count": 64,
   "id": "ee085980-3ef5-4b08-8f5f-b238740143da",
   "metadata": {},
   "outputs": [
    {
     "name": "stdout",
     "output_type": "stream",
     "text": [
      "4\n",
      " VAR Order Selection (* highlights the minimums) \n",
      "=================================================\n",
      "      AIC         BIC         FPE         HQIC   \n",
      "-------------------------------------------------\n",
      "0      -15.70     -15.62*   1.526e-07      -15.67\n",
      "1      -15.81      -15.59   1.357e-07      -15.73\n",
      "2      -15.92      -15.54   1.220e-07     -15.78*\n",
      "3      -15.93      -15.40   1.211e-07      -15.73\n",
      "4     -15.96*      -15.28  1.182e-07*      -15.70\n",
      "-------------------------------------------------\n"
     ]
    }
   ],
   "source": [
    "print(find_lag(payload))\n",
    "model = VAR(payload.dropna())\n",
    "# Determining the optimal lag order\n",
    "lag_order_results = model.select_order(maxlags=4)\n",
    "print(lag_order_results.summary())"
   ]
  },
  {
   "cell_type": "code",
   "execution_count": 65,
   "id": "bf611059-4c5a-405c-a934-6edfc8404108",
   "metadata": {},
   "outputs": [
    {
     "data": {
      "text/plain": [
       "  Summary of Regression Results   \n",
       "==================================\n",
       "Model:                         VAR\n",
       "Method:                        OLS\n",
       "Date:           Thu, 17, Apr, 2025\n",
       "Time:                     10:29:49\n",
       "--------------------------------------------------------------------\n",
       "No. of Equations:         2.00000    BIC:                   -15.2766\n",
       "Nobs:                     51.0000    HQIC:                  -15.6979\n",
       "Log likelihood:           280.208    FPE:                1.18191e-07\n",
       "AIC:                     -15.9584    Det(Omega_mle):     8.53927e-08\n",
       "--------------------------------------------------------------------\n",
       "Results for equation fb\n",
       "========================================================================\n",
       "           coefficient       std. error           t-stat            prob\n",
       "------------------------------------------------------------------------\n",
       "const         0.000260         0.001246            0.208           0.835\n",
       "L1.fb        -0.550072         0.148583           -3.702           0.000\n",
       "L1.fl        -0.012629         0.037818           -0.334           0.738\n",
       "L2.fb        -0.331242         0.167559           -1.977           0.048\n",
       "L2.fl        -0.019803         0.038624           -0.513           0.608\n",
       "L3.fb        -0.253715         0.183315           -1.384           0.166\n",
       "L3.fl        -0.008722         0.036469           -0.239           0.811\n",
       "L4.fb        -0.029935         0.158989           -0.188           0.851\n",
       "L4.fl        -0.003679         0.037856           -0.097           0.923\n",
       "========================================================================\n",
       "\n",
       "Results for equation fl\n",
       "========================================================================\n",
       "           coefficient       std. error           t-stat            prob\n",
       "------------------------------------------------------------------------\n",
       "const        -0.001368         0.004634           -0.295           0.768\n",
       "L1.fb         0.120863         0.552695            0.219           0.827\n",
       "L1.fl        -0.358119         0.140675           -2.546           0.011\n",
       "L2.fb         1.539663         0.623281            2.470           0.014\n",
       "L2.fl        -0.316883         0.143674           -2.206           0.027\n",
       "L3.fb         0.472603         0.681890            0.693           0.488\n",
       "L3.fl        -0.235425         0.135655           -1.735           0.083\n",
       "L4.fb        -0.931424         0.591403           -1.575           0.115\n",
       "L4.fl        -0.337512         0.140817           -2.397           0.017\n",
       "========================================================================\n",
       "\n",
       "Correlation matrix of residuals\n",
       "            fb        fl\n",
       "fb    1.000000  0.043331\n",
       "fl    0.043331  1.000000\n",
       "\n"
      ]
     },
     "execution_count": 65,
     "metadata": {},
     "output_type": "execute_result"
    }
   ],
   "source": [
    "var_model = VAR(payload.dropna()).fit(4)\n",
    "MODELS.append(var_model)\n",
    "var_model.summary()"
   ]
  },
  {
   "cell_type": "code",
   "execution_count": null,
   "id": "ce3af006-854f-44d0-a3d7-dabe1c9d8677",
   "metadata": {},
   "outputs": [],
   "source": [
    "var_model.test_normality(signif=0.05).summary()"
   ]
  },
  {
   "cell_type": "code",
   "execution_count": null,
   "id": "988898a3-defe-4ec6-905f-37864b900634",
   "metadata": {},
   "outputs": [],
   "source": [
    "# var_model.plot_acorr()\n",
    "# plt.show()"
   ]
  },
  {
   "cell_type": "code",
   "execution_count": null,
   "id": "5a167e60-da41-4d66-8c08-0107f7d1cce7",
   "metadata": {},
   "outputs": [],
   "source": [
    "var_model.test_causality(\"fl\", [\"fb\"], kind=\"f\").summary()"
   ]
  },
  {
   "cell_type": "code",
   "execution_count": null,
   "id": "6d5d7962-4f62-4ffe-ada1-6ae085dfc708",
   "metadata": {},
   "outputs": [],
   "source": [
    "# payload = df_for_var(sqdf, \"N1_globalist\", \"I_ang\", 0.5)\n",
    "# plt.plot(payload.index, zscore(payload[\"fb\"]))\n",
    "# plt.plot(payload.index, zscore(payload[\"fl\"]))"
   ]
  },
  {
   "cell_type": "code",
   "execution_count": 66,
   "id": "6146bc2a-7bd3-4cd4-8b9f-c76259e50013",
   "metadata": {},
   "outputs": [],
   "source": [
    "irf = var_model.irf(10)\n",
    "IRFS.append(irf)"
   ]
  },
  {
   "cell_type": "code",
   "execution_count": null,
   "id": "fef3f9bf-f7ff-4a0f-b11b-35937ef4208a",
   "metadata": {},
   "outputs": [],
   "source": [
    "irf_plt = irf.plot(impulse=\"fb\", response=\"fl\", figsize=(6,2))\n",
    "# irf_plt = irf.plot_cum_effects(impulse=\"fb\", response=\"fl\", figsize=(6,2))\n",
    "irf_plt.get_figure().suptitle('')\n",
    "plt.title(TERM.split(\"_\")[-1])\n",
    "plt.show()"
   ]
  },
  {
   "cell_type": "code",
   "execution_count": null,
   "id": "eff5b8c2-81ee-489a-a6b4-227ab484dba4",
   "metadata": {},
   "outputs": [],
   "source": [
    "irf_plt = irf.plot(impulse=\"fl\", response=\"fb\", figsize=(6,2))\n",
    "# irf_plt = irf.plot_cum_effects(impulse=\"fb\", response=\"fl\", figsize=(6,2))\n",
    "irf_plt.get_figure().suptitle('')\n",
    "plt.show()"
   ]
  },
  {
   "cell_type": "markdown",
   "id": "b5879bd8-8a43-45db-8953-5c833438db69",
   "metadata": {},
   "source": [
    "Note: from 2008, lag=2 (not supported by model fit), no dif., but `I_ang_dtr`\n"
   ]
  },
  {
   "cell_type": "markdown",
   "id": "c0a1f87b-bbb2-4d39-bc6e-58a3ccc06fa2",
   "metadata": {},
   "source": [
    "### Ziggy"
   ]
  },
  {
   "cell_type": "code",
   "execution_count": null,
   "id": "8a98ad77-2919-4348-9695-215501767bcb",
   "metadata": {},
   "outputs": [],
   "source": [
    "len(MODELS)"
   ]
  },
  {
   "cell_type": "code",
   "execution_count": null,
   "id": "d4c2b396-bcea-4124-9244-72dd02287feb",
   "metadata": {},
   "outputs": [],
   "source": [
    "ziggy(MODELS)"
   ]
  },
  {
   "cell_type": "code",
   "execution_count": null,
   "id": "ebbd388f-3aea-4e85-a60b-69a2e3bfd679",
   "metadata": {},
   "outputs": [],
   "source": [
    "print(ziggy(MODELS, M_NAMES, mapper=MAPPER).to_latex(index=False))"
   ]
  },
  {
   "cell_type": "markdown",
   "id": "ae168372-da44-467c-85ea-a4629adcb027",
   "metadata": {},
   "source": [
    "### Plot"
   ]
  },
  {
   "cell_type": "code",
   "execution_count": 67,
   "id": "6a816e5e-d34b-4fbb-8a55-afedd036a4c2",
   "metadata": {},
   "outputs": [],
   "source": [
    "def unpack_irf(irf_obj, row=1, column=0):\n",
    "    irf   = np.array([x[row][column] for x in irf_obj.irfs])\n",
    "    lower = np.array([x[row][column] for x in irf_obj.errband_mc()[0]])\n",
    "    upper = np.array([x[row][column] for x in irf_obj.errband_mc()[1]])\n",
    "\n",
    "    return irf, lower, upper"
   ]
  },
  {
   "cell_type": "code",
   "execution_count": 68,
   "id": "f63e0f62-2702-470e-8692-8afb64c1650b",
   "metadata": {},
   "outputs": [],
   "source": [
    "def plot_multi_IRFS(irfs,names):\n",
    "    fig, axs = plt.subplots(len(irfs),1, figsize=(6,2*len(irfs)+1), sharex=True)#, sharey=True)\n",
    "\n",
    "    for ax, irf_obj, name in zip(axs, irfs, names):\n",
    "        values, lower, upper = unpack_irf(irf_obj, row=1, column=0)\n",
    "    \n",
    "        ax.plot(range(values.shape[0]), values)\n",
    "        ax.fill_between(range(values.shape[0]), lower, upper, alpha=0.2)\n",
    "        ax.axhline(y=0)\n",
    "\n",
    "        # ax.set_xlabel(\"Time (quarters)\")\n",
    "        # ax.set_ylabel(\"Intensity in Familjeliv\")\n",
    "\n",
    "        ax.set_title(name.split(\"_\")[-1])\n",
    "\n",
    "\n",
    "    fig.supxlabel('Time (quarters)')\n",
    "    fig.supylabel('Impulse response of intensity in Familjeliv')\n",
    "    \n",
    "    fig.tight_layout()\n",
    "    plt.show()"
   ]
  },
  {
   "cell_type": "code",
   "execution_count": 69,
   "id": "a3748f90-2c4d-4136-b841-b3edb4826d1d",
   "metadata": {},
   "outputs": [
    {
     "data": {
      "image/png": "[encoded data removed]",
      "text/plain": [
       "<Figure size 600x700 with 3 Axes>"
      ]
     },
     "metadata": {},
     "output_type": "display_data"
    }
   ],
   "source": [
    "plot_multi_IRFS(IRFS,M_NAMES)"
   ]
  },
  {
   "cell_type": "markdown",
   "id": "2025f08e-2424-433e-8020-348352b22198",
   "metadata": {},
   "source": [
    "## Test All!"
   ]
  },
  {
   "cell_type": "code",
   "execution_count": null,
   "id": "45ee76cc-52b1-4687-a1dd-6430aa98ff4b",
   "metadata": {},
   "outputs": [],
   "source": [
    "def data_definer(path, file, year, month, day, fill, first_fill):\n",
    "    file = Path(f\"{path}/{file}\")\n",
    "    df = pd.read_csv(file, sep=\"\\t\", index_col=0)\n",
    "    df = add_date(df, Q_mapper, set_as_index=False)\n",
    "    df = df[df[\"date\"] > pd.Timestamp(year=year, month=month, day=day)].copy()\n",
    "\n",
    "    adj_int = adjusted(data=df, i_var=\"I_ang\", f_var=\"fpm_lg\", name=\"I_ang_adj\", fill=fill, first_fill=first_fill)\n",
    "    df = pd.concat([df, adj_int], axis=1)\n",
    "    \n",
    "    detrend_int = adjusted(data=df, i_var=\"I_ang\", f_var=\"T\", name=\"I_ang_dtr\", fill=fill, first_fill=first_fill)\n",
    "    df = pd.concat([df, detrend_int], axis=1)    \n",
    "    \n",
    "    detrend_ssc = adjusted(data=df, i_var=\"cnt_ssc\", f_var=\"T\", name=\"ssc_dtr\", fill=fill, first_fill=first_fill)\n",
    "    df = pd.concat([df, detrend_ssc], axis=1)  \n",
    "    \n",
    "    return df    "
   ]
  },
  {
   "cell_type": "code",
   "execution_count": null,
   "id": "82ed33e2-2635-4360-b31f-44cca87f908a",
   "metadata": {},
   "outputs": [],
   "source": [
    "def stationarity(df):\n",
    "    a = df.fb.dropna()\n",
    "    b = df.fl.dropna()\n",
    "    return all([adf_test(a), adf_test(b), kpss_test(a), kpss_test(b)])"
   ]
  },
  {
   "cell_type": "code",
   "execution_count": null,
   "id": "deb4afc5-b99c-4f11-91e1-004bd6f9b6f2",
   "metadata": {},
   "outputs": [],
   "source": [
    "PATHS = [\n",
    "    \"long_data\",\n",
    "    \"long_data_no_min\"\n",
    "    ]\n",
    "\n",
    "FILES = [\n",
    "    \"long_spec_q_rn.csv\",\n",
    "    \"long_all_q_rn.csv\",\n",
    "    \"sbert_long_spec_q_rn.csv\",\n",
    "    \"sbert_mixed_long_all_q_rn.csv\"    \n",
    "    ]"
   ]
  },
  {
   "cell_type": "code",
   "execution_count": null,
   "id": "76e70284-cfc3-4fda-9f70-80fda9e58345",
   "metadata": {},
   "outputs": [],
   "source": [
    "FF = [\n",
    "    (0.5, None), \n",
    "    (\"min\", None), \n",
    "    (\"mean\", None), \n",
    "    (\"interpolate\", None),\n",
    "    (\"spline\", None),\n",
    "    (\"previous\", \"next\")\n",
    "]"
   ]
  },
  {
   "cell_type": "code",
   "execution_count": null,
   "id": "24ff5fe5-c098-4d25-b60f-f8f973e48b73",
   "metadata": {},
   "outputs": [],
   "source": [
    "PARADIGM = []\n",
    "for fill, fill_start in FF:\n",
    "    for meas in [\"I_ang\", \"I_ang_dtr\", \"I_ang_adj\"]:\n",
    "        combo = (fill, fill_start, meas)\n",
    "        PARADIGM.append(combo)\n",
    "for fill, fill_start in FF:\n",
    "    for meas in [\"cnt_ssc\", \"ssc_dtr\"]:\n",
    "        combo = (fill, fill_start, meas)\n",
    "        PARADIGM.append(combo)\n",
    "# PARADIGM        "
   ]
  },
  {
   "cell_type": "code",
   "execution_count": null,
   "id": "d772a5cc-a494-4bc7-83ea-69a4a21b1b3e",
   "metadata": {},
   "outputs": [],
   "source": [
    "DWEs = [\n",
    "    \"N1_globalist\",\n",
    "    \"N1_återvandring\",\n",
    "    \"V1_återvandra\",\n",
    "    \"V1_berika\",\n",
    "    # \"N1_kulturberikare\"\n",
    "]"
   ]
  },
  {
   "cell_type": "code",
   "execution_count": null,
   "id": "54859ad1-d493-4b35-aeac-f16ee9f5481e",
   "metadata": {},
   "outputs": [],
   "source": [
    "YEAR = 2010\n",
    "MONTH = 1\n",
    "DAY = 1"
   ]
  },
  {
   "cell_type": "code",
   "execution_count": null,
   "id": "f6c0e2b8-888b-4734-8adf-572a020fd731",
   "metadata": {},
   "outputs": [],
   "source": [
    "len(PATHS)*len(FILES)*len(PARADIGM)*(2*len(DWEs))"
   ]
  },
  {
   "cell_type": "code",
   "execution_count": null,
   "id": "d9d0a010-edfc-4b66-bc78-eff011459d97",
   "metadata": {},
   "outputs": [],
   "source": [
    "def mega_man():\n",
    "    \n",
    "    results = []\n",
    "\n",
    "    for PATH in PATHS: \n",
    "        for FILE in FILES:\n",
    "            for FILL, FIRST_FILL, MEAS in PARADIGM:\n",
    "\n",
    "                print(f\"{PATH}-{FILE}-{MEAS}-{FILL:<25}\", end=\"\\r\")\n",
    "\n",
    "                sqdf = data_definer(PATH, FILE, YEAR, MONTH, DAY, FILL, FIRST_FILL)\n",
    "\n",
    "                # return sqdf\n",
    "                # print(sqdf[\"I_ang\"].corr(sqdf[\"I_ang_dtr\"]))\n",
    "\n",
    "                d = {\"File\": f\"{PATH}/{FILE}\", \"Measure\": f\"{MEAS}\", \"Fill\": f\"{FILL}\"}\n",
    "                \n",
    "                for TERM in DWEs:\n",
    "\n",
    "                    # Time series\n",
    "                    if MEAS.endswith(\"_dtr\"):\n",
    "                        payload = df_for_var(sqdf, TERM, MEAS)\n",
    "                    else:\n",
    "                        payload = df_for_var(sqdf, TERM, MEAS, FILL, FIRST_FILL)\n",
    "\n",
    "                    # payload = df_for_var(sqdf, TERM, MEAS, FILL, FIRST_FILL)\n",
    "\n",
    "                    if \"var_model\" in locals():\n",
    "                        del var_model\n",
    "\n",
    "                    optim_lag = find_lag(payload)\n",
    "                    var_model = VAR(payload.dropna()).fit(optim_lag)\n",
    "\n",
    "                    d[TERM]           = var_model.test_causality(\"fl\", [\"fb\"], kind=\"f\").pvalue\n",
    "                    d[f\"{TERM}_lag\"]  = var_model.k_ar\n",
    "                    d[f\"{TERM}_stat\"] = stationarity(payload)\n",
    "                results.append(d)\n",
    "\n",
    "                d = {\"File\": f\"{PATH}/{FILE}\", \"Measure\": f\"{MEAS}\", \"Fill\": f\"{FILL}-Diff\"}\n",
    "\n",
    "                for TERM in DWEs:\n",
    "\n",
    "                    # Differencing\n",
    "                    payload = df_for_var(sqdf, TERM, MEAS, FILL, FIRST_FILL)\n",
    "                    \n",
    "                    payload[\"fb\"] = differencing(payload, \"fb\")\n",
    "                    payload[\"fl\"] = differencing(payload, \"fl\")\n",
    "\n",
    "                    del var_model\n",
    "                    optim_lag = find_lag(payload)\n",
    "                    var_model = VAR(payload.dropna()).fit(optim_lag)\n",
    "\n",
    "                    d[TERM]           = var_model.test_causality(\"fl\", [\"fb\"], kind=\"f\").pvalue\n",
    "                    d[f\"{TERM}_lag\"]  = var_model.k_ar\n",
    "                    d[f\"{TERM}_stat\"] = stationarity(payload)\n",
    "                results.append(d)\n",
    "\n",
    "    results = pd.DataFrame(results)\n",
    "    return results"
   ]
  },
  {
   "cell_type": "code",
   "execution_count": null,
   "id": "7362d9de-88ea-49f9-8eb3-9374a7fd2a3b",
   "metadata": {},
   "outputs": [],
   "source": [
    "res = mega_man()"
   ]
  },
  {
   "cell_type": "code",
   "execution_count": null,
   "id": "27451a1d-6415-4a1e-bfaa-2c0360a8732a",
   "metadata": {},
   "outputs": [],
   "source": [
    "th = 0.12\n",
    "smp = res.copy()\n",
    "smp = smp[(smp[\"V1_berika_stat\"]==True)&(smp[\"N1_globalist_stat\"]==True)&((smp[\"N1_återvandring_stat\"]==True))]#|(smp[\"V1_återvandra_stat\"]==True))]\n",
    "smp = smp[(smp[\"V1_berika\"]<=th)|(smp[\"N1_globalist\"]<=th)|(smp[\"N1_återvandring\"]<=th)|(smp[\"V1_återvandra\"]<=th)]\n",
    "# smp = smp[(smp[\"V1_berika\"]<=th)&(smp[\"N1_globalist\"]<=th)&((smp[\"N1_återvandring\"]<=th))]#|(smp[\"V1_återvandra\"]<=th))]\n",
    "print(smp.shape)\n",
    "sns.heatmap(smp[DWEs])"
   ]
  },
  {
   "cell_type": "code",
   "execution_count": null,
   "id": "01ef5c75-548b-4573-b4c5-7080ae520411",
   "metadata": {},
   "outputs": [],
   "source": [
    "smp[[\"File\",\"Measure\"]+DWEs].round(2)"
   ]
  },
  {
   "cell_type": "code",
   "execution_count": null,
   "id": "28a8f18c-f162-4cf7-88e9-9c6a82ad648d",
   "metadata": {},
   "outputs": [],
   "source": [
    "smp.to_excel(\"c:/Users/xbohma/Desktop/mamma_mu.xlsx\")"
   ]
  },
  {
   "cell_type": "code",
   "execution_count": null,
   "id": "83b20f67-a8e9-4cc8-8665-7cfe4978a621",
   "metadata": {},
   "outputs": [],
   "source": [
    "sorted(list(set(smp.Measure.tolist())))"
   ]
  },
  {
   "cell_type": "code",
   "execution_count": null,
   "id": "1f1a575a-5ec9-47a1-a07c-b4b1dc524fbd",
   "metadata": {},
   "outputs": [],
   "source": [
    "smp"
   ]
  },
  {
   "cell_type": "code",
   "execution_count": null,
   "id": "7661c034-b8c8-444a-9be5-7973289aeda3",
   "metadata": {},
   "outputs": [],
   "source": [
    "smp[smp[\"Measure\"].isin(['I_ang-0.5-Diff', 'I_ang-min-Diff'])]"
   ]
  },
  {
   "cell_type": "code",
   "execution_count": null,
   "id": "24485c6e-a4f5-4cc5-a111-4727254b4898",
   "metadata": {},
   "outputs": [],
   "source": [
    "res[(res[\"N1_återvandring\"]<th)&(res[\"V1_återvandra\"]>th)][[c for c in res.columns if \"åter\" in c]]"
   ]
  },
  {
   "cell_type": "code",
   "execution_count": null,
   "id": "28f772be-70b4-4d41-afc1-cc09a0f5edd3",
   "metadata": {},
   "outputs": [],
   "source": [
    "res[(res[\"N1_återvandring\"]>th)&(res[\"V1_återvandra\"]<th)][[c for c in res.columns if \"åter\" in c]]"
   ]
  },
  {
   "cell_type": "code",
   "execution_count": null,
   "id": "9c853923-2e87-452b-8583-9d4ca027cbc8",
   "metadata": {},
   "outputs": [],
   "source": []
  },
  {
   "cell_type": "code",
   "execution_count": null,
   "id": "12d78307-85fa-4d78-bd91-2edfa926a35d",
   "metadata": {},
   "outputs": [],
   "source": []
  },
  {
   "cell_type": "code",
   "execution_count": null,
   "id": "2dc9f7a2-8f32-4afc-8cfa-45195eeadb85",
   "metadata": {},
   "outputs": [],
   "source": []
  },
  {
   "cell_type": "code",
   "execution_count": null,
   "id": "87f412cd-2f12-4cec-9d53-ccf910ab8271",
   "metadata": {},
   "outputs": [],
   "source": []
  }
 ],
 "metadata": {
  "kernelspec": {
   "display_name": "Python 3 (ipykernel)",
   "language": "python",
   "name": "python3"
  },
  "language_info": {
   "codemirror_mode": {
    "name": "ipython",
    "version": 3
   },
   "file_extension": ".py",
   "mimetype": "text/x-python",
   "name": "python",
   "nbconvert_exporter": "python",
   "pygments_lexer": "ipython3",
   "version": "3.12.10"
  }
 },
 "nbformat": 4,
 "nbformat_minor": 5
}
